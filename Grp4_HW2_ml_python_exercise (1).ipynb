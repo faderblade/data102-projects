{
  "nbformat": 4,
  "nbformat_minor": 0,
  "metadata": {
    "kernelspec": {
      "display_name": "Python 3",
      "language": "python",
      "name": "python3"
    },
    "language_info": {
      "codemirror_mode": {
        "name": "ipython",
        "version": 3
      },
      "file_extension": ".py",
      "mimetype": "text/x-python",
      "name": "python",
      "nbconvert_exporter": "python",
      "pygments_lexer": "ipython3",
      "version": "3.8.8"
    },
    "colab": {
      "name": "Grp4_HW2-ml_python_exercise.ipynb",
      "provenance": [],
      "collapsed_sections": []
    }
  },
  "cells": [
    {
      "cell_type": "markdown",
      "metadata": {
        "deletable": false,
        "editable": false,
        "tags": [],
        "id": "Uli6uWucVLvO"
      },
      "source": [
        "## Machine Learning in Python Exercise\n",
        "\n",
        "**Group 4** - Daguman | Escano | Sagrit | Tanting"
      ]
    },
    {
      "cell_type": "markdown",
      "metadata": {
        "id": "48rbkScGVLvQ"
      },
      "source": [
        "### Import libraries"
      ]
    },
    {
      "cell_type": "code",
      "metadata": {
        "execution": {
          "iopub.execute_input": "2021-08-26T06:48:28.374407Z",
          "iopub.status.busy": "2021-08-26T06:48:28.373407Z",
          "iopub.status.idle": "2021-08-26T06:48:31.516955Z",
          "shell.execute_reply": "2021-08-26T06:48:31.515956Z",
          "shell.execute_reply.started": "2021-08-26T06:48:28.373407Z"
        },
        "id": "r_TwZxUBVLvQ"
      },
      "source": [
        "import numpy as np\n",
        "import pandas as pd\n",
        "import matplotlib.pyplot as plt\n",
        "\n",
        "import seaborn as sns\n",
        "\n",
        "sns.set_style('darkgrid')\n",
        "\n",
        "sns.set_palette('Set2')\n",
        "# sns.color_palette('Set2')"
      ],
      "execution_count": null,
      "outputs": []
    },
    {
      "cell_type": "markdown",
      "metadata": {
        "id": "SoSxxY9AVLvS"
      },
      "source": [
        "## Exercise: Titanic Dataset\n",
        "\n",
        "Let's revisit one of your favorite datasets: the Titanic. Similar to the previous exercise, do the following:\n",
        "\n",
        " - set the `Survived` column as your target.\n",
        " - Split the data into train and test sets. Train set should get 80% of the original set. Test set should get the remaining 20%. Use `random_state = 42` when using sklearn's train-test split function to get consistent results.\n",
        " - Train a kNN and linear regression model for this dataset. \n",
        " - Return the score for the test set using the model you trained.\n",
        " \n",
        "Hint! Inspect your data first. You might need to do some preprocessing."
      ]
    },
    {
      "cell_type": "code",
      "metadata": {
        "execution": {
          "iopub.execute_input": "2021-08-26T06:48:32.760827Z",
          "iopub.status.busy": "2021-08-26T06:48:32.760827Z",
          "iopub.status.idle": "2021-08-26T06:48:33.645679Z",
          "shell.execute_reply": "2021-08-26T06:48:33.644679Z",
          "shell.execute_reply.started": "2021-08-26T06:48:32.760827Z"
        },
        "id": "F2NLGUqAVLvS",
        "colab": {
          "base_uri": "https://localhost:8080/",
          "height": 496
        },
        "outputId": "e568861e-9cec-4388-becf-3667ca60c75d"
      },
      "source": [
        "df = pd.read_csv('https://raw.githubusercontent.com/Cyntwikip/data-repository/main/titanic.csv')\n",
        "df.head()"
      ],
      "execution_count": null,
      "outputs": [
        {
          "output_type": "execute_result",
          "data": {
            "text/html": [
              "<div>\n",
              "<style scoped>\n",
              "    .dataframe tbody tr th:only-of-type {\n",
              "        vertical-align: middle;\n",
              "    }\n",
              "\n",
              "    .dataframe tbody tr th {\n",
              "        vertical-align: top;\n",
              "    }\n",
              "\n",
              "    .dataframe thead th {\n",
              "        text-align: right;\n",
              "    }\n",
              "</style>\n",
              "<table border=\"1\" class=\"dataframe\">\n",
              "  <thead>\n",
              "    <tr style=\"text-align: right;\">\n",
              "      <th></th>\n",
              "      <th>PassengerId</th>\n",
              "      <th>Survived</th>\n",
              "      <th>Pclass</th>\n",
              "      <th>Name</th>\n",
              "      <th>Sex</th>\n",
              "      <th>Age</th>\n",
              "      <th>SibSp</th>\n",
              "      <th>Parch</th>\n",
              "      <th>Ticket</th>\n",
              "      <th>Fare</th>\n",
              "      <th>Cabin</th>\n",
              "      <th>Embarked</th>\n",
              "    </tr>\n",
              "  </thead>\n",
              "  <tbody>\n",
              "    <tr>\n",
              "      <th>0</th>\n",
              "      <td>1</td>\n",
              "      <td>0</td>\n",
              "      <td>3</td>\n",
              "      <td>Braund, Mr. Owen Harris</td>\n",
              "      <td>male</td>\n",
              "      <td>22.0</td>\n",
              "      <td>1</td>\n",
              "      <td>0</td>\n",
              "      <td>A/5 21171</td>\n",
              "      <td>7.2500</td>\n",
              "      <td>NaN</td>\n",
              "      <td>S</td>\n",
              "    </tr>\n",
              "    <tr>\n",
              "      <th>1</th>\n",
              "      <td>2</td>\n",
              "      <td>1</td>\n",
              "      <td>1</td>\n",
              "      <td>Cumings, Mrs. John Bradley (Florence Briggs Th...</td>\n",
              "      <td>female</td>\n",
              "      <td>38.0</td>\n",
              "      <td>1</td>\n",
              "      <td>0</td>\n",
              "      <td>PC 17599</td>\n",
              "      <td>71.2833</td>\n",
              "      <td>C85</td>\n",
              "      <td>C</td>\n",
              "    </tr>\n",
              "    <tr>\n",
              "      <th>2</th>\n",
              "      <td>3</td>\n",
              "      <td>1</td>\n",
              "      <td>3</td>\n",
              "      <td>Heikkinen, Miss. Laina</td>\n",
              "      <td>female</td>\n",
              "      <td>26.0</td>\n",
              "      <td>0</td>\n",
              "      <td>0</td>\n",
              "      <td>STON/O2. 3101282</td>\n",
              "      <td>7.9250</td>\n",
              "      <td>NaN</td>\n",
              "      <td>S</td>\n",
              "    </tr>\n",
              "    <tr>\n",
              "      <th>3</th>\n",
              "      <td>4</td>\n",
              "      <td>1</td>\n",
              "      <td>1</td>\n",
              "      <td>Futrelle, Mrs. Jacques Heath (Lily May Peel)</td>\n",
              "      <td>female</td>\n",
              "      <td>35.0</td>\n",
              "      <td>1</td>\n",
              "      <td>0</td>\n",
              "      <td>113803</td>\n",
              "      <td>53.1000</td>\n",
              "      <td>C123</td>\n",
              "      <td>S</td>\n",
              "    </tr>\n",
              "    <tr>\n",
              "      <th>4</th>\n",
              "      <td>5</td>\n",
              "      <td>0</td>\n",
              "      <td>3</td>\n",
              "      <td>Allen, Mr. William Henry</td>\n",
              "      <td>male</td>\n",
              "      <td>35.0</td>\n",
              "      <td>0</td>\n",
              "      <td>0</td>\n",
              "      <td>373450</td>\n",
              "      <td>8.0500</td>\n",
              "      <td>NaN</td>\n",
              "      <td>S</td>\n",
              "    </tr>\n",
              "  </tbody>\n",
              "</table>\n",
              "</div>"
            ],
            "text/plain": [
              "   PassengerId  Survived  Pclass  ...     Fare Cabin  Embarked\n",
              "0            1         0       3  ...   7.2500   NaN         S\n",
              "1            2         1       1  ...  71.2833   C85         C\n",
              "2            3         1       3  ...   7.9250   NaN         S\n",
              "3            4         1       1  ...  53.1000  C123         S\n",
              "4            5         0       3  ...   8.0500   NaN         S\n",
              "\n",
              "[5 rows x 12 columns]"
            ]
          },
          "metadata": {},
          "execution_count": 87
        }
      ]
    },
    {
      "cell_type": "markdown",
      "metadata": {
        "id": "nx_EAgcXZ46J"
      },
      "source": [
        "### Column Descriptions \n",
        "- **PassengerID** - Unique passenger ID\n",
        "- **Survived** - Determines if passenger survived (yes = 1, no = 0) \n",
        "- **Pclass** - Ticket class (1 = 1st, 2 = 2nd, 3 = 3rd)\n",
        "- **Name** - Passenger name\n",
        "- **Sex** - Passenger sex (male, female)\n",
        "- **Age** - Passenger age \n",
        "- **SibSp** - Number of siblings / spouse aboard the Titanic\n",
        "- **Parch** - Number of parents / children aboard the Titanic\n",
        "- **Ticket** - Ticket number\n",
        "- **Fare** - Passenger fare\n",
        "- **Cabin** - Cabin number \n",
        "- **Embarked** - Port of embarktion (C = Cherbourg, Q = Queenstown, S = Southampton)"
      ]
    },
    {
      "cell_type": "markdown",
      "metadata": {
        "id": "bWAgnNCNcAO3"
      },
      "source": [
        "## *Data Visualization*\n",
        "\n",
        "Let us perform some data visualization to gain insights into the different columns. For numerical data, we will be visualizing them using histograms. While for categorical data, we will be using bar graphs."
      ]
    },
    {
      "cell_type": "code",
      "metadata": {
        "id": "cSnHlp6McAEG"
      },
      "source": [
        "# Numerical Columns\n",
        "num_cols = ['Age','SibSp','Parch','Fare']\n",
        "# Categorical Columns \n",
        "cat_cols = ['Survived','Pclass','Sex','Cabin','Embarked']"
      ],
      "execution_count": null,
      "outputs": []
    },
    {
      "cell_type": "code",
      "metadata": {
        "colab": {
          "base_uri": "https://localhost:8080/",
          "height": 1000
        },
        "id": "UIYGjGzPb_gu",
        "outputId": "d923fe0e-f4fc-4101-821f-61c6f666447f"
      },
      "source": [
        "# Visualize the numerical columns\n",
        "for i in num_cols:\n",
        "    plt.hist(df[i])\n",
        "    plt.title(i)\n",
        "    plt.show()"
      ],
      "execution_count": null,
      "outputs": [
        {
          "output_type": "display_data",
          "data": {
            "image/png": "[encoded data removed]",
            "text/plain": [
              "<Figure size 432x288 with 1 Axes>"
            ]
          },
          "metadata": {}
        },
        {
          "output_type": "display_data",
          "data": {
            "image/png": "[encoded data removed]",
            "text/plain": [
              "<Figure size 432x288 with 1 Axes>"
            ]
          },
          "metadata": {}
        },
        {
          "output_type": "display_data",
          "data": {
            "image/png": "[encoded data removed]",
            "text/plain": [
              "<Figure size 432x288 with 1 Axes>"
            ]
          },
          "metadata": {}
        },
        {
          "output_type": "display_data",
          "data": {
            "image/png": "[encoded data removed]",
            "text/plain": [
              "<Figure size 432x288 with 1 Axes>"
            ]
          },
          "metadata": {}
        }
      ]
    },
    {
      "cell_type": "code",
      "metadata": {
        "id": "fkbAPkPxc_Ym",
        "colab": {
          "base_uri": "https://localhost:8080/",
          "height": 1000
        },
        "outputId": "282d1382-839c-44c9-8279-50ed44d26414"
      },
      "source": [
        "# Visualize the categorical columns \n",
        "for i in cat_cols:\n",
        "    sns.barplot(df[i].value_counts().index,df[i].value_counts()).set_title(i)\n",
        "    plt.show()"
      ],
      "execution_count": null,
      "outputs": [
        {
          "output_type": "stream",
          "name": "stderr",
          "text": [
            "/usr/local/lib/python3.7/dist-packages/seaborn/_decorators.py:43: FutureWarning: Pass the following variables as keyword args: x, y. From version 0.12, the only valid positional argument will be `data`, and passing other arguments without an explicit keyword will result in an error or misinterpretation.\n",
            "  FutureWarning\n"
          ]
        },
        {
          "output_type": "display_data",
          "data": {
            "image/png": "[encoded data removed]",
            "text/plain": [
              "<Figure size 432x288 with 1 Axes>"
            ]
          },
          "metadata": {}
        },
        {
          "output_type": "stream",
          "name": "stderr",
          "text": [
            "/usr/local/lib/python3.7/dist-packages/seaborn/_decorators.py:43: FutureWarning: Pass the following variables as keyword args: x, y. From version 0.12, the only valid positional argument will be `data`, and passing other arguments without an explicit keyword will result in an error or misinterpretation.\n",
            "  FutureWarning\n"
          ]
        },
        {
          "output_type": "display_data",
          "data": {
            "image/png": "[encoded data removed]",
            "text/plain": [
              "<Figure size 432x288 with 1 Axes>"
            ]
          },
          "metadata": {}
        },
        {
          "output_type": "stream",
          "name": "stderr",
          "text": [
            "/usr/local/lib/python3.7/dist-packages/seaborn/_decorators.py:43: FutureWarning: Pass the following variables as keyword args: x, y. From version 0.12, the only valid positional argument will be `data`, and passing other arguments without an explicit keyword will result in an error or misinterpretation.\n",
            "  FutureWarning\n"
          ]
        },
        {
          "output_type": "display_data",
          "data": {
            "image/png": "[encoded data removed]",
            "text/plain": [
              "<Figure size 432x288 with 1 Axes>"
            ]
          },
          "metadata": {}
        },
        {
          "output_type": "stream",
          "name": "stderr",
          "text": [
            "/usr/local/lib/python3.7/dist-packages/seaborn/_decorators.py:43: FutureWarning: Pass the following variables as keyword args: x, y. From version 0.12, the only valid positional argument will be `data`, and passing other arguments without an explicit keyword will result in an error or misinterpretation.\n",
            "  FutureWarning\n"
          ]
        },
        {
          "output_type": "display_data",
          "data": {
            "image/png": "[encoded data removed]",
            "text/plain": [
              "<Figure size 432x288 with 1 Axes>"
            ]
          },
          "metadata": {}
        },
        {
          "output_type": "stream",
          "name": "stderr",
          "text": [
            "/usr/local/lib/python3.7/dist-packages/seaborn/_decorators.py:43: FutureWarning: Pass the following variables as keyword args: x, y. From version 0.12, the only valid positional argument will be `data`, and passing other arguments without an explicit keyword will result in an error or misinterpretation.\n",
            "  FutureWarning\n"
          ]
        },
        {
          "output_type": "display_data",
          "data": {
            "image/png": "[encoded data removed]",
            "text/plain": [
              "<Figure size 432x288 with 1 Axes>"
            ]
          },
          "metadata": {}
        }
      ]
    },
    {
      "cell_type": "markdown",
      "metadata": {
        "id": "AZUq-ggKeFMh"
      },
      "source": [
        "## *Data Preprocessing*\n",
        "In this section, we will be preprocessing our data by handling null values, scaling numerical columns, and performing one-hot encoding on the categorical columns."
      ]
    },
    {
      "cell_type": "code",
      "metadata": {
        "execution": {
          "iopub.execute_input": "2021-08-26T06:48:33.647680Z",
          "iopub.status.busy": "2021-08-26T06:48:33.647680Z",
          "iopub.status.idle": "2021-08-26T06:48:33.661683Z",
          "shell.execute_reply": "2021-08-26T06:48:33.660683Z",
          "shell.execute_reply.started": "2021-08-26T06:48:33.647680Z"
        },
        "id": "s2ipaEenVLvT",
        "colab": {
          "base_uri": "https://localhost:8080/"
        },
        "outputId": "0ed3b5ea-2a2c-4bc0-db06-e62ab5d08269"
      },
      "source": [
        "#To check if there is a missing value\n",
        "df.info()"
      ],
      "execution_count": null,
      "outputs": [
        {
          "output_type": "stream",
          "name": "stdout",
          "text": [
            "<class 'pandas.core.frame.DataFrame'>\n",
            "RangeIndex: 891 entries, 0 to 890\n",
            "Data columns (total 12 columns):\n",
            " #   Column       Non-Null Count  Dtype  \n",
            "---  ------       --------------  -----  \n",
            " 0   PassengerId  891 non-null    int64  \n",
            " 1   Survived     891 non-null    int64  \n",
            " 2   Pclass       891 non-null    int64  \n",
            " 3   Name         891 non-null    object \n",
            " 4   Sex          891 non-null    object \n",
            " 5   Age          714 non-null    float64\n",
            " 6   SibSp        891 non-null    int64  \n",
            " 7   Parch        891 non-null    int64  \n",
            " 8   Ticket       891 non-null    object \n",
            " 9   Fare         891 non-null    float64\n",
            " 10  Cabin        204 non-null    object \n",
            " 11  Embarked     889 non-null    object \n",
            "dtypes: float64(2), int64(5), object(5)\n",
            "memory usage: 83.7+ KB\n"
          ]
        }
      ]
    },
    {
      "cell_type": "markdown",
      "metadata": {
        "id": "XVEXYw-QUEDZ"
      },
      "source": [
        "We can see that the Age, Cabin, and Embarked columns have null values. Let us perform some preprocessing to handle that. \n",
        "\n",
        "From the visualization we performed earlier, we saw that **Age** was right-skewed. In this case, the median serves as a better measure of central tendency. "
      ]
    },
    {
      "cell_type": "code",
      "metadata": {
        "colab": {
          "base_uri": "https://localhost:8080/"
        },
        "id": "pkWOcNHZ5tIT",
        "outputId": "ff3740c3-6175-404c-c172-d352274f4221"
      },
      "source": [
        "# Create a copy of the original df\n",
        "df_update = df.copy()\n",
        "\n",
        "# Calculate the median \n",
        "age_median = df[\"Age\"].median(skipna=True)\n",
        "print(\"Median value of age is: \", age_median)\n",
        "# Fill missing values with the median\n",
        "df_update[\"Age\"] = df[\"Age\"].fillna(age_median)\n",
        "# Check if there are any missing values\n",
        "print(\"Missing age values: \", df_update[\"Age\"].isnull().sum())"
      ],
      "execution_count": null,
      "outputs": [
        {
          "output_type": "stream",
          "name": "stdout",
          "text": [
            "Median value of age is:  28.0\n",
            "Missing age values:  0\n"
          ]
        }
      ]
    },
    {
      "cell_type": "markdown",
      "metadata": {
        "id": "TZ_2fgsWfoL4"
      },
      "source": [
        "As for the **Cabin** column, we see that there are a lot of missing values which makes it hard for data imputation. As such, we will be dropping the column instead. "
      ]
    },
    {
      "cell_type": "code",
      "metadata": {
        "colab": {
          "base_uri": "https://localhost:8080/"
        },
        "id": "UYPwhsLmfnsl",
        "outputId": "d4d1a2d6-78d2-4290-a817-b1e161cb660a"
      },
      "source": [
        "# Check the percentage of missing cabin values\n",
        "print('Percent of missing \"Cabin\" records is %.2f%%' %((df['Cabin'].isnull().sum()/len(df))*100))\n",
        "\n",
        "df_update.drop(columns=\"Cabin\", inplace=True)"
      ],
      "execution_count": null,
      "outputs": [
        {
          "output_type": "stream",
          "name": "stdout",
          "text": [
            "Percent of missing \"Cabin\" records is 77.10%\n"
          ]
        }
      ]
    },
    {
      "cell_type": "markdown",
      "metadata": {
        "id": "8oG6nJ6eQJkw"
      },
      "source": [
        "Meanwhile for **Embarked**, since we are only missing 2 values, we can simply use the most frequent value or the mode to replace the null values. "
      ]
    },
    {
      "cell_type": "code",
      "metadata": {
        "colab": {
          "base_uri": "https://localhost:8080/"
        },
        "id": "-dDJoHuJQGs6",
        "outputId": "2c6c4b12-5c44-48ed-b535-d527bb4ca4be"
      },
      "source": [
        "# Get the mode of Embarked\n",
        "embarked_mode = df_update[\"Embarked\"].mode()[0]\n",
        "print(\"Embarked mode is: \", embarked_mode)\n",
        "df_update[\"Embarked\"] = df_update[\"Embarked\"].fillna(embarked_mode)"
      ],
      "execution_count": null,
      "outputs": [
        {
          "output_type": "stream",
          "name": "stdout",
          "text": [
            "Embarked mode is:  S\n"
          ]
        }
      ]
    },
    {
      "cell_type": "markdown",
      "metadata": {
        "id": "qtJwMlaWiFYf"
      },
      "source": [
        "Additionally, we will also be removing other categorical columns that do not contribute to the machine learning models we will be building later. These columns are **PassengerId**, **Name**, and **Ticket**. "
      ]
    },
    {
      "cell_type": "code",
      "metadata": {
        "id": "VWpNdBm1iFGE"
      },
      "source": [
        "# Drop the specified columns \n",
        "df_update.drop(columns=[\"PassengerId\", \"Name\", \"Ticket\"], inplace=True)"
      ],
      "execution_count": null,
      "outputs": []
    },
    {
      "cell_type": "markdown",
      "metadata": {
        "id": "Yry8YJ7LkJDk"
      },
      "source": [
        "Next, we will be performing one-hot encoding on the categorical columns such as **Sex**, **Pclass** and **Embarked**. We will be performing this since machine learning models cannot process categorical data directly. "
      ]
    },
    {
      "cell_type": "code",
      "metadata": {
        "id": "0zOSsgr7k8rL"
      },
      "source": [
        "df_update = pd.get_dummies(df_update, columns=[\"Pclass\",\"Embarked\",\"Sex\"])"
      ],
      "execution_count": null,
      "outputs": []
    },
    {
      "cell_type": "markdown",
      "metadata": {
        "id": "EvAtd93m-C5M"
      },
      "source": [
        "Afterwards, we will be scaling the numerical columns **Age**, **SibSp**, **Parch**, **Fare**. These fields will be scaled since kNN is sensitive to magnitudes which might cause one feature to outweigh another. For this we will be using the MinMaxScaler to transform the numerical columns to values between 0 to 1.\n"
      ]
    },
    {
      "cell_type": "code",
      "metadata": {
        "id": "ic6IH3VX-TRX"
      },
      "source": [
        "from sklearn.preprocessing import MinMaxScaler\n",
        "\n",
        "# Initialize scaler\n",
        "scaler = MinMaxScaler()\n",
        "# Create scaled df\n",
        "df_scaled = df_update.copy()\n",
        "\n",
        "df_scaled[num_cols] = scaler.fit_transform(df_scaled[num_cols])"
      ],
      "execution_count": null,
      "outputs": []
    },
    {
      "cell_type": "markdown",
      "metadata": {
        "id": "GlWVx_lXji8s"
      },
      "source": [
        "Finally, let's re-check our dataframe for any null values."
      ]
    },
    {
      "cell_type": "code",
      "metadata": {
        "colab": {
          "base_uri": "https://localhost:8080/"
        },
        "id": "VsLaMJojjm2p",
        "outputId": "19a9963c-4c10-4b0c-ba09-9113d3e655cd"
      },
      "source": [
        "df_scaled.isnull().sum()"
      ],
      "execution_count": null,
      "outputs": [
        {
          "output_type": "execute_result",
          "data": {
            "text/plain": [
              "Survived      0\n",
              "Age           0\n",
              "SibSp         0\n",
              "Parch         0\n",
              "Fare          0\n",
              "Pclass_1      0\n",
              "Pclass_2      0\n",
              "Pclass_3      0\n",
              "Embarked_C    0\n",
              "Embarked_Q    0\n",
              "Embarked_S    0\n",
              "Sex_female    0\n",
              "Sex_male      0\n",
              "dtype: int64"
            ]
          },
          "metadata": {},
          "execution_count": 98
        }
      ]
    },
    {
      "cell_type": "code",
      "metadata": {
        "colab": {
          "base_uri": "https://localhost:8080/",
          "height": 439
        },
        "id": "tVjiZUvqh9yt",
        "outputId": "8feb9bd7-af61-4636-d942-e8ef37c84432"
      },
      "source": [
        "df_scaled"
      ],
      "execution_count": null,
      "outputs": [
        {
          "output_type": "execute_result",
          "data": {
            "text/html": [
              "<div>\n",
              "<style scoped>\n",
              "    .dataframe tbody tr th:only-of-type {\n",
              "        vertical-align: middle;\n",
              "    }\n",
              "\n",
              "    .dataframe tbody tr th {\n",
              "        vertical-align: top;\n",
              "    }\n",
              "\n",
              "    .dataframe thead th {\n",
              "        text-align: right;\n",
              "    }\n",
              "</style>\n",
              "<table border=\"1\" class=\"dataframe\">\n",
              "  <thead>\n",
              "    <tr style=\"text-align: right;\">\n",
              "      <th></th>\n",
              "      <th>Survived</th>\n",
              "      <th>Age</th>\n",
              "      <th>SibSp</th>\n",
              "      <th>Parch</th>\n",
              "      <th>Fare</th>\n",
              "      <th>Pclass_1</th>\n",
              "      <th>Pclass_2</th>\n",
              "      <th>Pclass_3</th>\n",
              "      <th>Embarked_C</th>\n",
              "      <th>Embarked_Q</th>\n",
              "      <th>Embarked_S</th>\n",
              "      <th>Sex_female</th>\n",
              "      <th>Sex_male</th>\n",
              "    </tr>\n",
              "  </thead>\n",
              "  <tbody>\n",
              "    <tr>\n",
              "      <th>0</th>\n",
              "      <td>0</td>\n",
              "      <td>0.271174</td>\n",
              "      <td>0.125</td>\n",
              "      <td>0.000000</td>\n",
              "      <td>0.014151</td>\n",
              "      <td>0</td>\n",
              "      <td>0</td>\n",
              "      <td>1</td>\n",
              "      <td>0</td>\n",
              "      <td>0</td>\n",
              "      <td>1</td>\n",
              "      <td>0</td>\n",
              "      <td>1</td>\n",
              "    </tr>\n",
              "    <tr>\n",
              "      <th>1</th>\n",
              "      <td>1</td>\n",
              "      <td>0.472229</td>\n",
              "      <td>0.125</td>\n",
              "      <td>0.000000</td>\n",
              "      <td>0.139136</td>\n",
              "      <td>1</td>\n",
              "      <td>0</td>\n",
              "      <td>0</td>\n",
              "      <td>1</td>\n",
              "      <td>0</td>\n",
              "      <td>0</td>\n",
              "      <td>1</td>\n",
              "      <td>0</td>\n",
              "    </tr>\n",
              "    <tr>\n",
              "      <th>2</th>\n",
              "      <td>1</td>\n",
              "      <td>0.321438</td>\n",
              "      <td>0.000</td>\n",
              "      <td>0.000000</td>\n",
              "      <td>0.015469</td>\n",
              "      <td>0</td>\n",
              "      <td>0</td>\n",
              "      <td>1</td>\n",
              "      <td>0</td>\n",
              "      <td>0</td>\n",
              "      <td>1</td>\n",
              "      <td>1</td>\n",
              "      <td>0</td>\n",
              "    </tr>\n",
              "    <tr>\n",
              "      <th>3</th>\n",
              "      <td>1</td>\n",
              "      <td>0.434531</td>\n",
              "      <td>0.125</td>\n",
              "      <td>0.000000</td>\n",
              "      <td>0.103644</td>\n",
              "      <td>1</td>\n",
              "      <td>0</td>\n",
              "      <td>0</td>\n",
              "      <td>0</td>\n",
              "      <td>0</td>\n",
              "      <td>1</td>\n",
              "      <td>1</td>\n",
              "      <td>0</td>\n",
              "    </tr>\n",
              "    <tr>\n",
              "      <th>4</th>\n",
              "      <td>0</td>\n",
              "      <td>0.434531</td>\n",
              "      <td>0.000</td>\n",
              "      <td>0.000000</td>\n",
              "      <td>0.015713</td>\n",
              "      <td>0</td>\n",
              "      <td>0</td>\n",
              "      <td>1</td>\n",
              "      <td>0</td>\n",
              "      <td>0</td>\n",
              "      <td>1</td>\n",
              "      <td>0</td>\n",
              "      <td>1</td>\n",
              "    </tr>\n",
              "    <tr>\n",
              "      <th>...</th>\n",
              "      <td>...</td>\n",
              "      <td>...</td>\n",
              "      <td>...</td>\n",
              "      <td>...</td>\n",
              "      <td>...</td>\n",
              "      <td>...</td>\n",
              "      <td>...</td>\n",
              "      <td>...</td>\n",
              "      <td>...</td>\n",
              "      <td>...</td>\n",
              "      <td>...</td>\n",
              "      <td>...</td>\n",
              "      <td>...</td>\n",
              "    </tr>\n",
              "    <tr>\n",
              "      <th>886</th>\n",
              "      <td>0</td>\n",
              "      <td>0.334004</td>\n",
              "      <td>0.000</td>\n",
              "      <td>0.000000</td>\n",
              "      <td>0.025374</td>\n",
              "      <td>0</td>\n",
              "      <td>1</td>\n",
              "      <td>0</td>\n",
              "      <td>0</td>\n",
              "      <td>0</td>\n",
              "      <td>1</td>\n",
              "      <td>0</td>\n",
              "      <td>1</td>\n",
              "    </tr>\n",
              "    <tr>\n",
              "      <th>887</th>\n",
              "      <td>1</td>\n",
              "      <td>0.233476</td>\n",
              "      <td>0.000</td>\n",
              "      <td>0.000000</td>\n",
              "      <td>0.058556</td>\n",
              "      <td>1</td>\n",
              "      <td>0</td>\n",
              "      <td>0</td>\n",
              "      <td>0</td>\n",
              "      <td>0</td>\n",
              "      <td>1</td>\n",
              "      <td>1</td>\n",
              "      <td>0</td>\n",
              "    </tr>\n",
              "    <tr>\n",
              "      <th>888</th>\n",
              "      <td>0</td>\n",
              "      <td>0.346569</td>\n",
              "      <td>0.125</td>\n",
              "      <td>0.333333</td>\n",
              "      <td>0.045771</td>\n",
              "      <td>0</td>\n",
              "      <td>0</td>\n",
              "      <td>1</td>\n",
              "      <td>0</td>\n",
              "      <td>0</td>\n",
              "      <td>1</td>\n",
              "      <td>1</td>\n",
              "      <td>0</td>\n",
              "    </tr>\n",
              "    <tr>\n",
              "      <th>889</th>\n",
              "      <td>1</td>\n",
              "      <td>0.321438</td>\n",
              "      <td>0.000</td>\n",
              "      <td>0.000000</td>\n",
              "      <td>0.058556</td>\n",
              "      <td>1</td>\n",
              "      <td>0</td>\n",
              "      <td>0</td>\n",
              "      <td>1</td>\n",
              "      <td>0</td>\n",
              "      <td>0</td>\n",
              "      <td>0</td>\n",
              "      <td>1</td>\n",
              "    </tr>\n",
              "    <tr>\n",
              "      <th>890</th>\n",
              "      <td>0</td>\n",
              "      <td>0.396833</td>\n",
              "      <td>0.000</td>\n",
              "      <td>0.000000</td>\n",
              "      <td>0.015127</td>\n",
              "      <td>0</td>\n",
              "      <td>0</td>\n",
              "      <td>1</td>\n",
              "      <td>0</td>\n",
              "      <td>1</td>\n",
              "      <td>0</td>\n",
              "      <td>0</td>\n",
              "      <td>1</td>\n",
              "    </tr>\n",
              "  </tbody>\n",
              "</table>\n",
              "<p>891 rows × 13 columns</p>\n",
              "</div>"
            ],
            "text/plain": [
              "     Survived       Age  SibSp  ...  Embarked_S  Sex_female  Sex_male\n",
              "0           0  0.271174  0.125  ...           1           0         1\n",
              "1           1  0.472229  0.125  ...           0           1         0\n",
              "2           1  0.321438  0.000  ...           1           1         0\n",
              "3           1  0.434531  0.125  ...           1           1         0\n",
              "4           0  0.434531  0.000  ...           1           0         1\n",
              "..        ...       ...    ...  ...         ...         ...       ...\n",
              "886         0  0.334004  0.000  ...           1           0         1\n",
              "887         1  0.233476  0.000  ...           1           1         0\n",
              "888         0  0.346569  0.125  ...           1           1         0\n",
              "889         1  0.321438  0.000  ...           0           0         1\n",
              "890         0  0.396833  0.000  ...           0           0         1\n",
              "\n",
              "[891 rows x 13 columns]"
            ]
          },
          "metadata": {},
          "execution_count": 99
        }
      ]
    },
    {
      "cell_type": "code",
      "metadata": {
        "colab": {
          "base_uri": "https://localhost:8080/",
          "height": 317
        },
        "id": "YXFaaz5tAytZ",
        "outputId": "b0e19bc0-6314-4264-b35b-1d0457a89b4c"
      },
      "source": [
        "df_scaled.describe()"
      ],
      "execution_count": null,
      "outputs": [
        {
          "output_type": "execute_result",
          "data": {
            "text/html": [
              "<div>\n",
              "<style scoped>\n",
              "    .dataframe tbody tr th:only-of-type {\n",
              "        vertical-align: middle;\n",
              "    }\n",
              "\n",
              "    .dataframe tbody tr th {\n",
              "        vertical-align: top;\n",
              "    }\n",
              "\n",
              "    .dataframe thead th {\n",
              "        text-align: right;\n",
              "    }\n",
              "</style>\n",
              "<table border=\"1\" class=\"dataframe\">\n",
              "  <thead>\n",
              "    <tr style=\"text-align: right;\">\n",
              "      <th></th>\n",
              "      <th>Survived</th>\n",
              "      <th>Age</th>\n",
              "      <th>SibSp</th>\n",
              "      <th>Parch</th>\n",
              "      <th>Fare</th>\n",
              "      <th>Pclass_1</th>\n",
              "      <th>Pclass_2</th>\n",
              "      <th>Pclass_3</th>\n",
              "      <th>Embarked_C</th>\n",
              "      <th>Embarked_Q</th>\n",
              "      <th>Embarked_S</th>\n",
              "      <th>Sex_female</th>\n",
              "      <th>Sex_male</th>\n",
              "    </tr>\n",
              "  </thead>\n",
              "  <tbody>\n",
              "    <tr>\n",
              "      <th>count</th>\n",
              "      <td>891.000000</td>\n",
              "      <td>891.000000</td>\n",
              "      <td>891.000000</td>\n",
              "      <td>891.000000</td>\n",
              "      <td>891.000000</td>\n",
              "      <td>891.000000</td>\n",
              "      <td>891.000000</td>\n",
              "      <td>891.000000</td>\n",
              "      <td>891.000000</td>\n",
              "      <td>891.000000</td>\n",
              "      <td>891.000000</td>\n",
              "      <td>891.000000</td>\n",
              "      <td>891.000000</td>\n",
              "    </tr>\n",
              "    <tr>\n",
              "      <th>mean</th>\n",
              "      <td>0.383838</td>\n",
              "      <td>0.363679</td>\n",
              "      <td>0.065376</td>\n",
              "      <td>0.063599</td>\n",
              "      <td>0.062858</td>\n",
              "      <td>0.242424</td>\n",
              "      <td>0.206510</td>\n",
              "      <td>0.551066</td>\n",
              "      <td>0.188552</td>\n",
              "      <td>0.086420</td>\n",
              "      <td>0.725028</td>\n",
              "      <td>0.352413</td>\n",
              "      <td>0.647587</td>\n",
              "    </tr>\n",
              "    <tr>\n",
              "      <th>std</th>\n",
              "      <td>0.486592</td>\n",
              "      <td>0.163605</td>\n",
              "      <td>0.137843</td>\n",
              "      <td>0.134343</td>\n",
              "      <td>0.096995</td>\n",
              "      <td>0.428790</td>\n",
              "      <td>0.405028</td>\n",
              "      <td>0.497665</td>\n",
              "      <td>0.391372</td>\n",
              "      <td>0.281141</td>\n",
              "      <td>0.446751</td>\n",
              "      <td>0.477990</td>\n",
              "      <td>0.477990</td>\n",
              "    </tr>\n",
              "    <tr>\n",
              "      <th>min</th>\n",
              "      <td>0.000000</td>\n",
              "      <td>0.000000</td>\n",
              "      <td>0.000000</td>\n",
              "      <td>0.000000</td>\n",
              "      <td>0.000000</td>\n",
              "      <td>0.000000</td>\n",
              "      <td>0.000000</td>\n",
              "      <td>0.000000</td>\n",
              "      <td>0.000000</td>\n",
              "      <td>0.000000</td>\n",
              "      <td>0.000000</td>\n",
              "      <td>0.000000</td>\n",
              "      <td>0.000000</td>\n",
              "    </tr>\n",
              "    <tr>\n",
              "      <th>25%</th>\n",
              "      <td>0.000000</td>\n",
              "      <td>0.271174</td>\n",
              "      <td>0.000000</td>\n",
              "      <td>0.000000</td>\n",
              "      <td>0.015440</td>\n",
              "      <td>0.000000</td>\n",
              "      <td>0.000000</td>\n",
              "      <td>0.000000</td>\n",
              "      <td>0.000000</td>\n",
              "      <td>0.000000</td>\n",
              "      <td>0.000000</td>\n",
              "      <td>0.000000</td>\n",
              "      <td>0.000000</td>\n",
              "    </tr>\n",
              "    <tr>\n",
              "      <th>50%</th>\n",
              "      <td>0.000000</td>\n",
              "      <td>0.346569</td>\n",
              "      <td>0.000000</td>\n",
              "      <td>0.000000</td>\n",
              "      <td>0.028213</td>\n",
              "      <td>0.000000</td>\n",
              "      <td>0.000000</td>\n",
              "      <td>1.000000</td>\n",
              "      <td>0.000000</td>\n",
              "      <td>0.000000</td>\n",
              "      <td>1.000000</td>\n",
              "      <td>0.000000</td>\n",
              "      <td>1.000000</td>\n",
              "    </tr>\n",
              "    <tr>\n",
              "      <th>75%</th>\n",
              "      <td>1.000000</td>\n",
              "      <td>0.434531</td>\n",
              "      <td>0.125000</td>\n",
              "      <td>0.000000</td>\n",
              "      <td>0.060508</td>\n",
              "      <td>0.000000</td>\n",
              "      <td>0.000000</td>\n",
              "      <td>1.000000</td>\n",
              "      <td>0.000000</td>\n",
              "      <td>0.000000</td>\n",
              "      <td>1.000000</td>\n",
              "      <td>1.000000</td>\n",
              "      <td>1.000000</td>\n",
              "    </tr>\n",
              "    <tr>\n",
              "      <th>max</th>\n",
              "      <td>1.000000</td>\n",
              "      <td>1.000000</td>\n",
              "      <td>1.000000</td>\n",
              "      <td>1.000000</td>\n",
              "      <td>1.000000</td>\n",
              "      <td>1.000000</td>\n",
              "      <td>1.000000</td>\n",
              "      <td>1.000000</td>\n",
              "      <td>1.000000</td>\n",
              "      <td>1.000000</td>\n",
              "      <td>1.000000</td>\n",
              "      <td>1.000000</td>\n",
              "      <td>1.000000</td>\n",
              "    </tr>\n",
              "  </tbody>\n",
              "</table>\n",
              "</div>"
            ],
            "text/plain": [
              "         Survived         Age       SibSp  ...  Embarked_S  Sex_female    Sex_male\n",
              "count  891.000000  891.000000  891.000000  ...  891.000000  891.000000  891.000000\n",
              "mean     0.383838    0.363679    0.065376  ...    0.725028    0.352413    0.647587\n",
              "std      0.486592    0.163605    0.137843  ...    0.446751    0.477990    0.477990\n",
              "min      0.000000    0.000000    0.000000  ...    0.000000    0.000000    0.000000\n",
              "25%      0.000000    0.271174    0.000000  ...    0.000000    0.000000    0.000000\n",
              "50%      0.000000    0.346569    0.000000  ...    1.000000    0.000000    1.000000\n",
              "75%      1.000000    0.434531    0.125000  ...    1.000000    1.000000    1.000000\n",
              "max      1.000000    1.000000    1.000000  ...    1.000000    1.000000    1.000000\n",
              "\n",
              "[8 rows x 13 columns]"
            ]
          },
          "metadata": {},
          "execution_count": 100
        }
      ]
    },
    {
      "cell_type": "markdown",
      "metadata": {
        "id": "HeLb4ZQNhLD4"
      },
      "source": [
        "## *Testing with KNN*\n",
        "\n",
        "K-nearest Neighbors is applied to cluster data points at a given number of K based on a similar metric. This means that a given number K, the KNN will predict the points nearest to point X and it will be assigned as predictor of the dataset or in this exercise, those who *survived and did not survive*.\n",
        "\n",
        "<br> Before doing the KNN algorithm, we included the following packages:\n"
      ]
    },
    {
      "cell_type": "code",
      "metadata": {
        "id": "IexEWti0CVrv"
      },
      "source": [
        "#Important packages for k-nearest neighbors\n",
        "from sklearn.neighbors import KNeighborsClassifier #for getting KNN Score\n",
        "from sklearn.model_selection import train_test_split #for splitting the data\n",
        "from sklearn.metrics import accuracy_score #for getting accuracy score\n",
        "from sklearn import metrics #for getting metrics score"
      ],
      "execution_count": null,
      "outputs": []
    },
    {
      "cell_type": "markdown",
      "metadata": {
        "id": "DNB_oKfX3lWE"
      },
      "source": [
        "From the given, we set `survive` as the target variable. The `train_test_split` function will make random partition for train data and the test data. This is an important step to prevent overfitting and underfitting of the model (or too inaccurate). The details of the `train_test_split` are as follows:\n",
        "\n",
        "*   X_train - all independent variables\n",
        "*   X_test - a portion of the independent variables used to make predictions to test the accuracy of the model\n",
        "*   y_train - dependent variable that needs to be predicted by the model\n",
        "*   y_test - a portion of the dependent varaible to test the accuracy between actual and predicted categories\n",
        "\n",
        "At `random_state=42`, it will act as the *random sampling* of the data and it will decide the splitting of data into train and test sets\n",
        "\n"
      ]
    },
    {
      "cell_type": "code",
      "metadata": {
        "id": "-KGTtox5CwpM"
      },
      "source": [
        "#Set survive as the target\n",
        "target = 'Survived'\n",
        "X = df_scaled.drop(target, axis=1)\n",
        "y = df[target]\n",
        "\n",
        "#Conduct random sampling through train-test split to prevent overfitting/underfitting of the model\n",
        "X_train, X_test, y_train, y_test = train_test_split(X, y, test_size=0.2, random_state=42)"
      ],
      "execution_count": null,
      "outputs": []
    },
    {
      "cell_type": "markdown",
      "metadata": {
        "id": "jM4CPHTM6YYX"
      },
      "source": [
        "There are two proccesses to assign the optimal value of K. First, we compute for a random K-value at a given range. In this case, we have assigned the `range` to 1 to 40 and we expect that it will print 40 scores to choose from. "
      ]
    },
    {
      "cell_type": "code",
      "metadata": {
        "colab": {
          "base_uri": "https://localhost:8080/"
        },
        "id": "1v8et_UjGCry",
        "outputId": "d9254297-02d8-4f82-b97d-d16a9da98710"
      },
      "source": [
        "#Determine the optimal value of K in a given range of accuracy scores\n",
        "k_range = range(1,40)\n",
        "scores = []\n",
        "for k in k_range:\n",
        "  knn = KNeighborsClassifier(n_neighbors=k)\n",
        "  knn.fit(X_train, y_train)\n",
        "  y_pred = knn.predict(X_test)\n",
        "  scores.append(metrics.accuracy_score(y_test, y_pred))\n",
        "print(scores)"
      ],
      "execution_count": null,
      "outputs": [
        {
          "output_type": "stream",
          "name": "stdout",
          "text": [
            "[0.7877094972067039, 0.8156424581005587, 0.7821229050279329, 0.7877094972067039, 0.8044692737430168, 0.8044692737430168, 0.8100558659217877, 0.7877094972067039, 0.8044692737430168, 0.7988826815642458, 0.8044692737430168, 0.7988826815642458, 0.8044692737430168, 0.7932960893854749, 0.7988826815642458, 0.7988826815642458, 0.8044692737430168, 0.7932960893854749, 0.7932960893854749, 0.7932960893854749, 0.7932960893854749, 0.7932960893854749, 0.7988826815642458, 0.7988826815642458, 0.7932960893854749, 0.7932960893854749, 0.7932960893854749, 0.7932960893854749, 0.7932960893854749, 0.7932960893854749, 0.7932960893854749, 0.7932960893854749, 0.7932960893854749, 0.7653631284916201, 0.7653631284916201, 0.7653631284916201, 0.770949720670391, 0.7653631284916201, 0.7653631284916201]\n"
          ]
        }
      ]
    },
    {
      "cell_type": "markdown",
      "metadata": {
        "id": "80oLnwZR-Pvo"
      },
      "source": [
        "Second, from the given scores, we find out the optimal value of K at a given error rate. We can prove this by deriving a graph of the error rate and the K-value. This is important since we want to eliminate errors in predicting the KNN score. We summarized this in the graph below:"
      ]
    },
    {
      "cell_type": "code",
      "metadata": {
        "colab": {
          "base_uri": "https://localhost:8080/",
          "height": 421
        },
        "id": "gx0TpBeY9N6r",
        "outputId": "f36eedcf-9227-427d-9e80-41c2a8b53099"
      },
      "source": [
        "#Determine the optimal value of K at a given error rate. The lowest error rate will be the K-value\n",
        "error_rate = []\n",
        "for i in range(1,40):\n",
        " knn = KNeighborsClassifier(n_neighbors=i)\n",
        " knn.fit(X_train,y_train)\n",
        " pred_i = knn.predict(X_test)\n",
        " error_rate.append(np.mean(pred_i != y_test))\n",
        "\n",
        "#Plot the optimal value of K at a given error rate\n",
        "plt.figure(figsize=(10,6))\n",
        "plt.plot(range(1,40),error_rate,color='blue', linestyle='dashed', \n",
        "         marker='o',markerfacecolor='red', markersize=10)\n",
        "plt.title('Error Rate vs. K Value')\n",
        "plt.xlabel('K Value')\n",
        "plt.ylabel('Error Rate')\n",
        "print(\"Minimum error:-\",min(error_rate),\"at K =\",error_rate.index(min(error_rate)))"
      ],
      "execution_count": null,
      "outputs": [
        {
          "output_type": "stream",
          "name": "stdout",
          "text": [
            "Minimum error:- 0.18435754189944134 at K = 1\n"
          ]
        },
        {
          "output_type": "display_data",
          "data": {
            "image/png": "[encoded data removed]",
            "text/plain": [
              "<Figure size 720x432 with 1 Axes>"
            ]
          },
          "metadata": {}
        }
      ]
    },
    {
      "cell_type": "markdown",
      "metadata": {
        "id": "lWrgAz298a4k"
      },
      "source": [
        "The graph shows that the minimum error is evident at 0.1844 at K=1. This means that K=1 is the preferred K-value in the KNN algorithm. We then proceed in training the model and predict the KNN score. "
      ]
    },
    {
      "cell_type": "code",
      "metadata": {
        "colab": {
          "base_uri": "https://localhost:8080/"
        },
        "id": "nZDuUoleMfrU",
        "outputId": "c3c63a7b-83f3-44ef-f889-56f91fb62294"
      },
      "source": [
        "#Train model and predict\n",
        "knn = KNeighborsClassifier(n_neighbors=1)\n",
        "knn.fit(X_train, y_train)\n",
        "y_pred = knn.predict(X_test)\n",
        "accuracy = metrics.accuracy_score(y_test,y_pred)\n",
        "print(\"Accuracy of the Model at K=1 is {:.4%}\".format(accuracy))"
      ],
      "execution_count": null,
      "outputs": [
        {
          "output_type": "stream",
          "name": "stdout",
          "text": [
            "Accuracy of the Model at K=1 is 78.7709%\n"
          ]
        }
      ]
    },
    {
      "cell_type": "markdown",
      "metadata": {
        "id": "9mCG4n9pApWL"
      },
      "source": [
        "The score implies that the KNN algorithm has the capacity to predict the population of those who survived and did not survived the Titanic by 0.7877 or 78.7709%. This is derived from the dataset that has been scaled in the pre-processing stages in the exercise. However, it brings a question if this is accurate enough if we did not scale the dataset in the first place. If the dataset has not been scaled, will it also yield the same results?"
      ]
    },
    {
      "cell_type": "code",
      "metadata": {
        "colab": {
          "base_uri": "https://localhost:8080/",
          "height": 458
        },
        "id": "B4-e48XpBSOp",
        "outputId": "21f1d43c-97ab-4d64-9146-4a01edbf5b91"
      },
      "source": [
        "#Set survive as the target from a dataset that has not been scaled\n",
        "target = 'Survived'\n",
        "X = df_update.drop(target, axis=1)\n",
        "y = df[target]\n",
        "\n",
        "#Conduct random sampling from a dataset that has not been scaled\n",
        "X_train, X_test, y_train, y_test = train_test_split(X, y, test_size=0.2, random_state=42)\n",
        "\n",
        "#Determine the optimal value of K in a given range of accuracy scores\n",
        "k_range = range(1,40)\n",
        "scores = []\n",
        "for k in k_range:\n",
        "  knn = KNeighborsClassifier(n_neighbors=k)\n",
        "  knn.fit(X_train, y_train)\n",
        "  y_pred = knn.predict(X_test)\n",
        "  scores.append(metrics.accuracy_score(y_test, y_pred))\n",
        "print(scores)\n",
        "\n",
        "#Determine the optimal value of K at a given error rate from a dataset that has not been scaled\n",
        "error_rate = []\n",
        "for i in range(1,40):\n",
        " knn = KNeighborsClassifier(n_neighbors=i)\n",
        " knn.fit(X_train,y_train)\n",
        " pred_i = knn.predict(X_test)\n",
        " error_rate.append(np.mean(pred_i != y_test))\n",
        "\n",
        "#Plot the error rate vs K value\n",
        "plt.figure(figsize=(10,6))\n",
        "plt.plot(range(1,40),error_rate,color='blue', linestyle='dashed', \n",
        "         marker='o',markerfacecolor='red', markersize=10)\n",
        "plt.title('Error Rate vs. K Value (with dataset that has not been scaled)')\n",
        "plt.xlabel('K Value')\n",
        "plt.ylabel('Error Rate')\n",
        "print(\"Minimum error:-\",min(error_rate),\"at K =\",error_rate.index(min(error_rate)))\n"
      ],
      "execution_count": null,
      "outputs": [
        {
          "output_type": "stream",
          "name": "stdout",
          "text": [
            "[0.6815642458100558, 0.6983240223463687, 0.7094972067039106, 0.7094972067039106, 0.7262569832402235, 0.7318435754189944, 0.7262569832402235, 0.7039106145251397, 0.7039106145251397, 0.7094972067039106, 0.7374301675977654, 0.7150837988826816, 0.7150837988826816, 0.7262569832402235, 0.7262569832402235, 0.7374301675977654, 0.7374301675977654, 0.7206703910614525, 0.7150837988826816, 0.7150837988826816, 0.7206703910614525, 0.7262569832402235, 0.7150837988826816, 0.7094972067039106, 0.7206703910614525, 0.7039106145251397, 0.7206703910614525, 0.7094972067039106, 0.7039106145251397, 0.6927374301675978, 0.6983240223463687, 0.7039106145251397, 0.6983240223463687, 0.6927374301675978, 0.6927374301675978, 0.6927374301675978, 0.7039106145251397, 0.7094972067039106, 0.6983240223463687]\n",
            "Minimum error:- 0.26256983240223464 at K = 10\n"
          ]
        },
        {
          "output_type": "display_data",
          "data": {
            "image/png": "[encoded data removed]",
            "text/plain": [
              "<Figure size 720x432 with 1 Axes>"
            ]
          },
          "metadata": {}
        }
      ]
    },
    {
      "cell_type": "code",
      "metadata": {
        "colab": {
          "base_uri": "https://localhost:8080/"
        },
        "id": "F32VJrKkC-o8",
        "outputId": "6c673ff7-e76b-41b2-ee67-7a08980ce936"
      },
      "source": [
        "#Train model and predict the accuracy of KNN (that is not scaled)\n",
        "knn = KNeighborsClassifier(n_neighbors=1)\n",
        "knn.fit(X_train, y_train)\n",
        "y_pred = knn.predict(X_test)\n",
        "accuracy = metrics.accuracy_score(y_test,y_pred)\n",
        "print(\"Accuracy of the Model at K=10 is {:.4%}\".format(accuracy))"
      ],
      "execution_count": null,
      "outputs": [
        {
          "output_type": "stream",
          "name": "stdout",
          "text": [
            "Accuracy of the Model at K=10 is 68.1564%\n"
          ]
        }
      ]
    },
    {
      "cell_type": "markdown",
      "metadata": {
        "id": "zWfVgPTHDMRm"
      },
      "source": [
        "The result from a KNN model with a dataset that has not been scaled yielded a lower KNN score of 0.68156 or 68.1564%. Notice that the error term in this scenario is higher at a value of 0.26257. Recall that the accuracy of the model was higher when the dataset was scaled and it yielded a higher accuracy score of 78.7709% with a lower error term of 0.1844 . The comparison of scores only imply that scaling the dataset is important for conducting KNN to yield higher and accurate results. This is because distance-based algorithms like KNN are affected by the scale of the variables in the dataset. We are trying to prevent that our algorithm will not be affected by the magnitude of the variables. Through the `MinMaxScaler` we have done earlier, it increases the score by about 10%. Thus, scaling is necessary to apply to avoid missclassification."
      ]
    },
    {
      "cell_type": "markdown",
      "metadata": {
        "id": "cWtxXoGlQZkp"
      },
      "source": [
        "###***Limitations of KNN Algorithm in this Exercise***\n",
        "\n",
        "We have observed that the results of the KNN algorithm heavily depends on the preprocessing methods that were done. KNN may generate inaccuracy in the predictions if scaling  of the dataset is not applied.  Moreover, other than the preprocessing we have done in this exercise, we observed few limitations of the KNN: \n",
        "\n",
        "1. Determinng the optimal number of K-values will be harder on a larger dataset. Accuracy is questionable given that that data is randomly spread and it will not yield useful information for analysis.\n",
        "\n",
        "2. The risk of sensitivity of the outliers are high. That is why data processing is very important.\n",
        "\n",
        "2. Aside from the preprocessing, the exercise could have imporved on applying distance metrics (ie. Eucledian Distance or Minowski Distance). In the exercise, we have pointed out the position of the optimal K-value, but we did not measure the distance of the K-values. By applying distance metrics, it could measure the distance between points which can help quantify similarity among K-values. "
      ]
    },
    {
      "cell_type": "markdown",
      "metadata": {
        "id": "C3q-jFh2hdI8"
      },
      "source": [
        "## *Testing with Logistic Regression*\n",
        "In testing the dataset with the linear regression,  we must recognize the nature of the dependent variable, in which in this case it is the target variable `survived`. Notice that other variables in the dataset are binary such as the `sex`, `embarked`, and `p-class`. Hence, a logit model or logistic regression is applied in this case. A logistic regression is used to determine the predict the probability whether Titanic passangers have survived or not. This will be appropriate for this case since the dependent variable of interest is dichotomous wherein it takes the value of 1 if the passenger have survived, and 0 if the passenger have not survived. The basis of the model is found in the equation below:\n",
        "\n",
        "![picture](https://www.dotnetlovers.com/images/LogisticRegressionFormula1020201890212AM.png)\n",
        "\n",
        "where P is denoted as the target variable that varies from 0 to 1, and the right-hand side of the equation are the independent varaibles.\n",
        "\n",
        "<br> Before modelling, the following packages are included in testing the logit regression"
      ]
    },
    {
      "cell_type": "code",
      "metadata": {
        "id": "ukoovMITmG7r"
      },
      "source": [
        "#Importing packages for logit modelling\n",
        "from sklearn.linear_model import LogisticRegression #for Logistic Regression\n",
        "from sklearn.model_selection import train_test_split #for splitting the data\n",
        "from sklearn.metrics import confusion_matrix #for visualizing the confusion matrix\n",
        "from sklearn.metrics import roc_auc_score # for roc score\n",
        "from sklearn.metrics import roc_curve #for visualizing the roc curve"
      ],
      "execution_count": null,
      "outputs": []
    },
    {
      "cell_type": "markdown",
      "metadata": {
        "id": "Aosao9rMoGBG"
      },
      "source": [
        "Set the column `survived` as the target or the target variable from the scaled version of the dataset."
      ]
    },
    {
      "cell_type": "code",
      "metadata": {
        "id": "7rzdg6A4m8Yr"
      },
      "source": [
        "#Set survive as the target\n",
        "target = 'Survived'\n",
        "X = df_scaled.drop(target, axis=1)\n",
        "y = df[target]"
      ],
      "execution_count": null,
      "outputs": []
    },
    {
      "cell_type": "markdown",
      "metadata": {
        "id": "tRmyRs2Yonq4"
      },
      "source": [
        "The data was split into train and test sets. From the given, it was stated that the test set would get the remaining 20%. In this case, the `test_size` was set to 0.2. In using the train-test split function, the `random_state` equates to 42."
      ]
    },
    {
      "cell_type": "code",
      "metadata": {
        "id": "0XXzweq6niJS"
      },
      "source": [
        "#Train test split\n",
        "X_train, X_test, y_train, y_test = train_test_split(X, y, test_size=0.2, random_state=42)"
      ],
      "execution_count": null,
      "outputs": []
    },
    {
      "cell_type": "markdown",
      "metadata": {
        "id": "PvOsL4PKo9iY"
      },
      "source": [
        "After splitting, the dataset is ready for modelling. The results of the regression score and the number of survived and did not survive are as follows:"
      ]
    },
    {
      "cell_type": "code",
      "metadata": {
        "colab": {
          "base_uri": "https://localhost:8080/"
        },
        "id": "S9N5Wn_TnuRo",
        "outputId": "c0974867-50dc-4295-e5e8-7570e3a9da48"
      },
      "source": [
        "#Train model and predict with logit regression:\n",
        "logit = LogisticRegression(random_state=42, max_iter=1000)\n",
        "logit.fit(X_train, y_train)\n",
        "score = logit.score(X_test, y_test)\n",
        "\n",
        "#Print results\n",
        "print(f'Logistic Regression Score: {score:.4%}')\n",
        "\n",
        "#Predicting the number of survived and did not survived\n",
        "predscore = logit.predict(X_test)\n",
        "print(\"Survived:\", sum(predscore!=0))\n",
        "print(\"Did not Survived:\", sum(predscore==0))"
      ],
      "execution_count": null,
      "outputs": [
        {
          "output_type": "stream",
          "name": "stdout",
          "text": [
            "Logistic Regression Score: 79.8883%\n",
            "Survived: 68\n",
            "Did not Survived: 111\n"
          ]
        }
      ]
    },
    {
      "cell_type": "markdown",
      "metadata": {
        "id": "Npstr7Hocd1X"
      },
      "source": [
        "A Logistic Regression Score of `79.8883%` showed the accuracy of the modelling. It is also interesting to note that from the prediction, we can see that the number of people that **did not** survived in the Titatnic amounted to `111` compared to the number of people who surived at `68`.\n",
        "\n",
        "<br> But what if the data we used is not scaled? We show a comparison that it is not affected and the score remains the same at 79.8883%\n",
        "\n"
      ]
    },
    {
      "cell_type": "code",
      "metadata": {
        "colab": {
          "base_uri": "https://localhost:8080/"
        },
        "id": "fLZmA1f3ekC2",
        "outputId": "f7ada7ed-0171-4582-f4ef-735ea1c99998"
      },
      "source": [
        "#Set survive as the target with the dataset not scaled\n",
        "target = 'Survived'\n",
        "x = df_update.drop(target, axis=1)\n",
        "Y = df[target]\n",
        "\n",
        "#Train test split\n",
        "x_train, x_test, Y_train, Y_test = train_test_split(x, Y, test_size=0.2, random_state=42)\n",
        "\n",
        "#Modelling logit regression:\n",
        "logit_notscaled = LogisticRegression(random_state=42, max_iter=1000)\n",
        "logit_notscaled.fit(x_train, Y_train)\n",
        "score = logit_notscaled.score(x_test, Y_test)\n",
        "\n",
        "#Calculating Regression Score when the data is not scaled\n",
        "print(f'Logistic Regression Score (not scaled): {score:.4%}')\n"
      ],
      "execution_count": null,
      "outputs": [
        {
          "output_type": "stream",
          "name": "stdout",
          "text": [
            "Logistic Regression Score (not scaled): 79.8883%\n"
          ]
        }
      ]
    },
    {
      "cell_type": "markdown",
      "metadata": {
        "id": "Fgoi8CwseYMJ"
      },
      "source": [
        "In analyzing the regression score further, a confusion matrix can be applied for model evaluation. It summarizes if the model accurately predict those who have lived (or survived) and died (who did not survived). The matrix is divided into 4 quadrants, the true positive (TP), false positives (FP), false negatives (FN), and true negatives (TN). Here is a guide for understanding:\n",
        "\n",
        "![picture](https://miro.medium.com/max/1334/1*3yGLac6F4mTENnj5dBNvNQ.jpeg)\n",
        "\n",
        "*Taken from Suresh, A. (2020)*\n",
        "\n",
        "For this exercise, we have provided a visualization of the confusion matrix below:"
      ]
    },
    {
      "cell_type": "code",
      "metadata": {
        "colab": {
          "base_uri": "https://localhost:8080/",
          "height": 404
        },
        "id": "76qoAU5rONXO",
        "outputId": "e2a98e42-0e96-4e3b-ddc0-9e76dd46cb0b"
      },
      "source": [
        "#Determine the confusion matrix\n",
        "cm = confusion_matrix(y_test, predscore)\n",
        "\n",
        "#Visualizing the Confusion Matrix\n",
        "plt.figure(figsize=(6,6))\n",
        "plt.title('Confusion Matrix')\n",
        "sns.heatmap(cm, annot=True, fmt='d', cmap=plt.cm.Reds, cbar=False)\n",
        "plt.xlabel('Predicted Label')\n",
        "plt.ylabel('True Label')\n",
        "plt.show()"
      ],
      "execution_count": null,
      "outputs": [
        {
          "output_type": "display_data",
          "data": {
            "image/png": "[encoded data removed]",
            "text/plain": [
              "<Figure size 432x432 with 1 Axes>"
            ]
          },
          "metadata": {}
        }
      ]
    },
    {
      "cell_type": "markdown",
      "metadata": {
        "id": "YAJrgVFj4y2d"
      },
      "source": [
        "From the matrix, it showed that the model accurately identified that 90 individuals from the Titanic survived, but 15 individuals who were thought to have survived actually died (at type 1 error). Likewise, 21 of those predicted to have not survived actually lived (at type 2 error). And 53 individuals who did not survive were accurately predicted. Moreover, the values from the TP and TN quadrants (90 and 53, respectively) are of higher than the values in FP and FN quadrants (15 and 21, respecitvely). It implies that high TP and TN values are an indicator of a good model (Suresh, 2020). \n",
        "\n",
        "<br> Another way to visualize the logistic regression results is through the Receiver Operating Characteristics (ROC) curve. The curve plots the true positive rate and the false positive rate. In the graph shown below, the blue curve indicates the model's performance. The red dotted line is the random classifier. Note that the further the blue curve from the red dotted line, the better the model in distinguishing who survived and did not survived"
      ]
    },
    {
      "cell_type": "code",
      "metadata": {
        "colab": {
          "base_uri": "https://localhost:8080/",
          "height": 295
        },
        "id": "WZUSFABO38kl",
        "outputId": "a547a6fb-21de-400c-837c-ad6fbbe79fe1"
      },
      "source": [
        "#Get ROC value\n",
        "logit_roc_auc = roc_auc_score(y_test, logit.predict(X_test)) #Determine the ROC score\n",
        "fpr, tpr, thresholds = roc_curve(y_test, logit.predict_proba(X_test)[:,1]) #Establish the ROC threshold line\n",
        "\n",
        "#Visualizing the ROC Curve\n",
        "plt.figure()\n",
        "plt.plot(fpr, tpr, label='Logistic Regression (area =%0.2f)' % logit_roc_auc)\n",
        "plt.plot([0, 1], [0, 1],'r--')\n",
        "plt.xlim([0.0, 1.0])\n",
        "plt.ylim([0.0, 1.05])\n",
        "plt.xlabel('False Positive Rate')\n",
        "plt.ylabel('True Positive Rate')\n",
        "plt.title('Reciever Operating Characteristic Curve')\n",
        "plt.legend(loc=\"lower right\")\n",
        "plt.show()"
      ],
      "execution_count": null,
      "outputs": [
        {
          "output_type": "display_data",
          "data": {
            "image/png": "[encoded data removed]",
            "text/plain": [
              "<Figure size 432x288 with 1 Axes>"
            ]
          },
          "metadata": {}
        }
      ]
    },
    {
      "cell_type": "markdown",
      "metadata": {
        "id": "wedh6GfapjCF"
      },
      "source": [
        "### ***Limitations of the Logit Modelling in this Exercise***\n",
        "Model validation techniques in statistics must be applied when running regression models. It is important to be ascertain whether predicted values from the model will accurately predict responses on future subjects to develop the model. Aside from the model evaluation we have done, we have summarized the limitations we have observed in doing this exercise:\n",
        "\n",
        "1. Robustness check (goodness of fit test) of the data will determine whether the model is acceptable for its intended use, especially for logit models. An example of this is the *Hosmer-Lemeshow goodness of fit test* to calculate if the observed event rates match the expected event rates.\n",
        "\n",
        "2. Cross-validation scores to see the range of accuracy scores that may be applied for future modelling.\n",
        "\n"
      ]
    },
    {
      "cell_type": "markdown",
      "metadata": {
        "id": "LgpY7BcXpdyC"
      },
      "source": [
        "## *Challenges Encountered*\n",
        "\n",
        "1. Preprocessing is very important. Results vary if the data is heavily skewed. This is evident in conducting KNN algorithms and logistic regression to prevent misclassification and overfitting/underfitting of the data analysis. From the results, we can see that there is a noticeable difference between the results of the models when using scaled vs non-scaled data.\n",
        "\n",
        "2. There are different ways to pre-process data that is complete and those that have null-values. We can't simply replace all of the null values with a single-value let's say zero. We also have to take into account the distribution of the data when imputing our data. For a right-skewed distribution, then the median might be a better measure of central tendency. The number of null-values for a column should also be a consideration since if we have too much null-values then we can consider dropping the column. \n",
        "\n",
        "3. Not all features are also needed for the machine learning model. So we have to take into account which features actually contribute to the model before including them in training the model. For example, the **passengerID** and **name** columns don't really bring anything to the table when it comes to determining the passenger's survivability. As opposed to something like the passenger's sex or age where it was likely that women and children were given priority in the evacuation of the ship. "
      ]
    },
    {
      "cell_type": "markdown",
      "metadata": {
        "id": "MN2N1swyZKKE"
      },
      "source": [
        "**Reference**\n",
        "\n",
        "\n",
        "Suresh, A. (2020). What is a Confusion Matrix? Retrieved from https://medium.com/analytics-vidhya/what-is-a-confusion-matrix-d1c0f8feda5"
      ]
    },
    {
      "cell_type": "markdown",
      "metadata": {
        "editable": false,
        "tags": [],
        "id": "UOkZoeqKVLvT"
      },
      "source": [
        "###-End-"
      ]
    }
  ]
}