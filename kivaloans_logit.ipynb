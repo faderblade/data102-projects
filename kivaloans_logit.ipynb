{
 "cells": [
  {
   "cell_type": "markdown",
   "source": "# Will I get funded? Determining the Likelihood of Being Funded Using Kiva Loans\nGroup 4 - Daguman | Escano | Sagrit | Tanting\n<hr>\n\nPeer to peer lending (P2P) from microfinancing instituitions have developed to become an alternative source of funding to formal financial instituitions as the demand for micro-scale funding are increasing. It has become a movement for poverty alleviation to provide financial access for impoverished communities who have little to no access to financial services (Brau et al., 2004). P2P lending instituitions such as [Kiva Loans](https://www.kiva.org/) promote financial inclusivity that has been particularly beneficial for small businesses that need enough capital but lack collateral assets to apply for loans. Kiva Loans has allowed lenders from all over the world to loan to low-income, small, micro, and medium enterprises and people in need for funding in developing countries.\n\n<br> \n\n## Problem Statement\nMost low-income enterprises from developing countries resorted to micro-financing because of the limited access to finance. However, even if Kiva Loans exist, there is no guarantee that borrowers from these countries will get funded. Borrower characteristics are particularly considered by lenders before they provide a loan. This includes their purpose for borrowing funds, lending risks, lending terms, and others. As such, this project shall analyze for Kiva Loans in determining the likelihood whether borrowers will get funded or not.\n\n<br> \n\n## Data Collection\nThe following libraries are used in data collection and data analysis in this project:",
   "metadata": {
    "tags": [],
    "cell_id": "00001-7cb2aee4-053f-4324-9677-6a19c15c9347",
    "deepnote_cell_type": "markdown"
   }
  },
  {
   "cell_type": "code",
   "metadata": {
    "id": "FY0G06kVNNXE",
    "cell_id": "00000-5ed5aff1-4467-4c95-a382-c08580e036a1",
    "deepnote_to_be_reexecuted": false,
    "source_hash": "3550c7d2",
    "execution_start": 1631702466298,
    "execution_millis": 896,
    "deepnote_cell_type": "code"
   },
   "source": "#Libraries\nimport urllib\nfrom bs4 import BeautifulSoup\nimport re\nimport random as rand\nimport pandas as pd\nfrom urllib.request import urlopen\nimport requests\nimport bs4\nimport numpy as np\nimport matplotlib.pyplot as plt\nimport seaborn as sns\nsns.set_style('darkgrid')\nsns.set_palette('Set2')\n# sns.color_palette('Set2')",
   "outputs": [],
   "execution_count": null
  },
  {
   "cell_type": "markdown",
   "source": "The following is the function to process each page and returns an array of values that were retrieved from the page.",
   "metadata": {
    "tags": [],
    "is_collapsed": false,
    "cell_id": "00003-ea7f328a-be4e-4a7a-8a86-3aeae06037a4",
    "deepnote_cell_type": "text-cell-p"
   }
  },
  {
   "cell_type": "code",
   "metadata": {
    "colab": {
     "base_uri": "https://localhost:8080/",
     "height": 129
    },
    "id": "vsrCKjRpZbFK",
    "outputId": "69bce7ae-7685-4e43-d823-3cd99e3c3cc3",
    "cell_id": "00002-a2623f03-a9e9-4823-856e-89b2f37f2e5f",
    "deepnote_to_be_reexecuted": false,
    "source_hash": "afc6687d",
    "execution_start": 1631702467209,
    "execution_millis": 0,
    "deepnote_cell_type": "code"
   },
   "source": "def processPage(soup):\n  #Expired (Expired loans were partially funded loans)\n  expired_data = str(soup.find_all('h2', class_= 'green-bolded inline'))\n  if 'Expired' in expired_data:\n    expired = 1\n  else:\n    expired = 0\n\n  #Name (Name of the borrower)\n  name = str(soup.find_all('h1', class_ = 'borrower-name')[0].text)\n\n  #Loan Total Amount\n  loan_data = str(soup.find_all('div', class_ = 'loan-total')[0].text)\n  loan_data = loan_data.split('Total loan: ')[1]\n  loan_amount = loan_data.replace('\\n', '').replace('\\t','').replace('$','')\n    \n  #Location Industry Type\n  country_data = str(soup.find_all('a', class_ = 'black-underlined', href= '#country-section')[0].text)\n  split_country_data = country_data.split(',')\n  if (len(split_country_data) >= 2):\n    region = split_country_data[0]\n    country = split_country_data[-1]\n  else:\n    region = 'n/a'\n    country = split_country_data[0]\n\n  #Industry\n  industry = str(soup.find_all('span', class_= 'typeName')[0].text)\n\n  #Loan Length\n  loan_length_data = str(soup.find_all('div', class_ = 'green-bolded')[1].text)\n  loan_length = loan_length_data.split(' ')[0]\n\n  #Partner Time on Kiva\n  partner_time_data = str(soup.find_all('div', id = 'partner-time-on-kiva')[0].text)\n  partner_time = partner_time_data.split(':')[1].replace(' ', '').replace('\\n','').replace('\\t','').replace('months','')\n\n  #Partner Average Cost to Borrower\n  cost_data = str(soup.find_all('div', id = 'partner-avg-cost-to-borrower')[0].text)\n  borrower_average_cost = cost_data.split(':')[1].replace(' ', '').replace('\\n','').replace('\\t','').split('%')[0]\n\n  #Partner Deliquency Rate\n  deliquency_data = str(soup.find_all('div', id = 'partner-delinquency-rate')[0].text)\n  deliquency_rate = deliquency_data.split(':')[1].replace(' ', '').replace('\\n','').replace('\\t','').split('%')[0]\n\n  #Partner Default Rate\n  default_data = str(soup.find_all('div', id = 'partner-default-rate')[0].text)\n  default_rate = default_data.split(':')[1].replace(' ', '').replace('\\n','').replace('\\t','').split('%')[0]\n\n  #Partner Profitability\n  profitability_data = str(soup.find_all('div', id = 'partner-profitability')[0].text)\n  profitability_rate = profitability_data.split(':')[1].replace(' ', '').replace('\\n','').replace('\\t','').split('%')[0]\n  \n  return [expired, name, loan_amount, region, country, industry, loan_length, partner_time, borrower_average_cost, deliquency_rate, default_rate, profitability_rate]",
   "outputs": [],
   "execution_count": null
  },
  {
   "cell_type": "code",
   "metadata": {
    "tags": [],
    "cell_id": "00004-ab256cdb-ecaa-464f-9763-030044dc5c74",
    "deepnote_to_be_reexecuted": false,
    "source_hash": "41732f6d",
    "execution_start": 1631702467220,
    "execution_millis": 2304192,
    "deepnote_cell_type": "code"
   },
   "source": "df_entries = []\ntarget_entries = 6000 # Number of loans we want to scrape\ncurr_id = 1900000 # Starting loan ID\nstep_size = 10 # Interval between loan IDs\nentry_ctr = 0\n\nwhile(entry_ctr < target_entries):\n    # sample url: https://www.kiva.org/lend/2000500?minimal=false\n    url = 'https://www.kiva.org/lend/' + str(curr_id) + '?minimal=false'\n    res = requests.get(url)\n    curr_id += step_size\n    # Skip pages that no longer exist \n    if (res.url != url):\n        continue\n    soup = bs4.BeautifulSoup(res.text, 'lxml')\n    entry = processPage(soup)\n    df_entries.append(entry)\n    entry_ctr += 1\n\ncolumn_names = [\"Expired\", \"Borrower Name\", \"Loan Amount\", \"Region\", \"Country\", \"Industry\", \"Loan Length\", \"Partner Time With Kiva\",\"Borrower Average Cost\", \"Partner Delinquency Rate\", \"Partner Default Rate\", \"Profitability Rate\"]\ndf = pd.DataFrame(df_entries, columns=column_names)\ndf.head()",
   "outputs": [
    {
     "output_type": "error",
     "ename": "IndexError",
     "evalue": "list index out of range",
     "traceback": [
      "\u001b[0;31m---------------------------------------------------------------------------\u001b[0m",
      "\u001b[0;31mIndexError\u001b[0m                                Traceback (most recent call last)",
      "\u001b[0;32m/tmp/ipykernel_159/3528235471.py\u001b[0m in \u001b[0;36m<module>\u001b[0;34m\u001b[0m\n\u001b[1;32m     14\u001b[0m         \u001b[0;32mcontinue\u001b[0m\u001b[0;34m\u001b[0m\u001b[0;34m\u001b[0m\u001b[0m\n\u001b[1;32m     15\u001b[0m     \u001b[0msoup\u001b[0m \u001b[0;34m=\u001b[0m \u001b[0mbs4\u001b[0m\u001b[0;34m.\u001b[0m\u001b[0mBeautifulSoup\u001b[0m\u001b[0;34m(\u001b[0m\u001b[0mres\u001b[0m\u001b[0;34m.\u001b[0m\u001b[0mtext\u001b[0m\u001b[0;34m,\u001b[0m \u001b[0;34m'lxml'\u001b[0m\u001b[0;34m)\u001b[0m\u001b[0;34m\u001b[0m\u001b[0;34m\u001b[0m\u001b[0m\n\u001b[0;32m---> 16\u001b[0;31m     \u001b[0mentry\u001b[0m \u001b[0;34m=\u001b[0m \u001b[0mprocessPage\u001b[0m\u001b[0;34m(\u001b[0m\u001b[0msoup\u001b[0m\u001b[0;34m)\u001b[0m\u001b[0;34m\u001b[0m\u001b[0;34m\u001b[0m\u001b[0m\n\u001b[0m\u001b[1;32m     17\u001b[0m     \u001b[0mdf_entries\u001b[0m\u001b[0;34m.\u001b[0m\u001b[0mappend\u001b[0m\u001b[0;34m(\u001b[0m\u001b[0mentry\u001b[0m\u001b[0;34m)\u001b[0m\u001b[0;34m\u001b[0m\u001b[0;34m\u001b[0m\u001b[0m\n\u001b[1;32m     18\u001b[0m     \u001b[0mentry_ctr\u001b[0m \u001b[0;34m+=\u001b[0m \u001b[0;36m1\u001b[0m\u001b[0;34m\u001b[0m\u001b[0;34m\u001b[0m\u001b[0m\n",
      "\u001b[0;32m/tmp/ipykernel_159/2276856123.py\u001b[0m in \u001b[0;36mprocessPage\u001b[0;34m(soup)\u001b[0m\n\u001b[1;32m     33\u001b[0m \u001b[0;34m\u001b[0m\u001b[0m\n\u001b[1;32m     34\u001b[0m   \u001b[0;31m#Partner Time on Kiva\u001b[0m\u001b[0;34m\u001b[0m\u001b[0;34m\u001b[0m\u001b[0;34m\u001b[0m\u001b[0m\n\u001b[0;32m---> 35\u001b[0;31m   \u001b[0mpartner_time_data\u001b[0m \u001b[0;34m=\u001b[0m \u001b[0mstr\u001b[0m\u001b[0;34m(\u001b[0m\u001b[0msoup\u001b[0m\u001b[0;34m.\u001b[0m\u001b[0mfind_all\u001b[0m\u001b[0;34m(\u001b[0m\u001b[0;34m'div'\u001b[0m\u001b[0;34m,\u001b[0m \u001b[0mid\u001b[0m \u001b[0;34m=\u001b[0m \u001b[0;34m'partner-time-on-kiva'\u001b[0m\u001b[0;34m)\u001b[0m\u001b[0;34m[\u001b[0m\u001b[0;36m0\u001b[0m\u001b[0;34m]\u001b[0m\u001b[0;34m.\u001b[0m\u001b[0mtext\u001b[0m\u001b[0;34m)\u001b[0m\u001b[0;34m\u001b[0m\u001b[0;34m\u001b[0m\u001b[0m\n\u001b[0m\u001b[1;32m     36\u001b[0m   \u001b[0mpartner_time\u001b[0m \u001b[0;34m=\u001b[0m \u001b[0mpartner_time_data\u001b[0m\u001b[0;34m.\u001b[0m\u001b[0msplit\u001b[0m\u001b[0;34m(\u001b[0m\u001b[0;34m':'\u001b[0m\u001b[0;34m)\u001b[0m\u001b[0;34m[\u001b[0m\u001b[0;36m1\u001b[0m\u001b[0;34m]\u001b[0m\u001b[0;34m.\u001b[0m\u001b[0mreplace\u001b[0m\u001b[0;34m(\u001b[0m\u001b[0;34m' '\u001b[0m\u001b[0;34m,\u001b[0m \u001b[0;34m''\u001b[0m\u001b[0;34m)\u001b[0m\u001b[0;34m.\u001b[0m\u001b[0mreplace\u001b[0m\u001b[0;34m(\u001b[0m\u001b[0;34m'\\n'\u001b[0m\u001b[0;34m,\u001b[0m\u001b[0;34m''\u001b[0m\u001b[0;34m)\u001b[0m\u001b[0;34m.\u001b[0m\u001b[0mreplace\u001b[0m\u001b[0;34m(\u001b[0m\u001b[0;34m'\\t'\u001b[0m\u001b[0;34m,\u001b[0m\u001b[0;34m''\u001b[0m\u001b[0;34m)\u001b[0m\u001b[0;34m.\u001b[0m\u001b[0mreplace\u001b[0m\u001b[0;34m(\u001b[0m\u001b[0;34m'months'\u001b[0m\u001b[0;34m,\u001b[0m\u001b[0;34m''\u001b[0m\u001b[0;34m)\u001b[0m\u001b[0;34m\u001b[0m\u001b[0;34m\u001b[0m\u001b[0m\n\u001b[1;32m     37\u001b[0m \u001b[0;34m\u001b[0m\u001b[0m\n",
      "\u001b[0;31mIndexError\u001b[0m: list index out of range"
     ]
    }
   ],
   "execution_count": null
  },
  {
   "cell_type": "code",
   "metadata": {
    "tags": [],
    "cell_id": "00005-5d3c8f59-978c-47a4-93d7-4e10d4480bc3",
    "deepnote_to_be_reexecuted": true,
    "source_hash": "66f17e7",
    "execution_start": 1631697335250,
    "execution_millis": 38,
    "deepnote_cell_type": "code"
   },
   "source": "df = pd.read_csv('kiva_scraped_6000.csv')\nlen(df)",
   "outputs": [
    {
     "output_type": "execute_result",
     "execution_count": 5,
     "data": {
      "text/plain": "6000"
     },
     "metadata": {}
    }
   ],
   "execution_count": null
  },
  {
   "cell_type": "code",
   "metadata": {
    "tags": [],
    "cell_id": "00006-feb4239f-915b-40fb-bd7f-2b0f09754572",
    "deepnote_to_be_reexecuted": true,
    "source_hash": "69a7da9d",
    "execution_start": 1631550907734,
    "execution_millis": 61,
    "deepnote_cell_type": "code"
   },
   "source": "df.head(20)",
   "execution_count": null,
   "outputs": [
    {
     "output_type": "execute_result",
     "execution_count": 9,
     "data": {
      "application/vnd.deepnote.dataframe.v2+json": {
       "row_count": 20,
       "column_count": 13,
       "columns": [
        {
         "name": "Unnamed: 0",
         "dtype": "int64",
         "stats": {
          "unique_count": 20,
          "nan_count": 0,
          "min": "0",
          "max": "19",
          "histogram": [
           {
            "bin_start": 0,
            "bin_end": 1.9,
            "count": 2
           },
           {
            "bin_start": 1.9,
            "bin_end": 3.8,
            "count": 2
           },
           {
            "bin_start": 3.8,
            "bin_end": 5.699999999999999,
            "count": 2
           },
           {
            "bin_start": 5.699999999999999,
            "bin_end": 7.6,
            "count": 2
           },
           {
            "bin_start": 7.6,
            "bin_end": 9.5,
            "count": 2
           },
           {
            "bin_start": 9.5,
            "bin_end": 11.399999999999999,
            "count": 2
           },
           {
            "bin_start": 11.399999999999999,
            "bin_end": 13.299999999999999,
            "count": 2
           },
           {
            "bin_start": 13.299999999999999,
            "bin_end": 15.2,
            "count": 2
           },
           {
            "bin_start": 15.2,
            "bin_end": 17.099999999999998,
            "count": 2
           },
           {
            "bin_start": 17.099999999999998,
            "bin_end": 19,
            "count": 2
           }
          ]
         }
        },
        {
         "name": "Expired",
         "dtype": "int64",
         "stats": {
          "unique_count": 1,
          "nan_count": 0,
          "min": "0",
          "max": "0",
          "histogram": [
           {
            "bin_start": -0.5,
            "bin_end": -0.4,
            "count": 0
           },
           {
            "bin_start": -0.4,
            "bin_end": -0.3,
            "count": 0
           },
           {
            "bin_start": -0.3,
            "bin_end": -0.19999999999999996,
            "count": 0
           },
           {
            "bin_start": -0.19999999999999996,
            "bin_end": -0.09999999999999998,
            "count": 0
           },
           {
            "bin_start": -0.09999999999999998,
            "bin_end": 0,
            "count": 0
           },
           {
            "bin_start": 0,
            "bin_end": 0.10000000000000009,
            "count": 20
           },
           {
            "bin_start": 0.10000000000000009,
            "bin_end": 0.20000000000000007,
            "count": 0
           },
           {
            "bin_start": 0.20000000000000007,
            "bin_end": 0.30000000000000004,
            "count": 0
           },
           {
            "bin_start": 0.30000000000000004,
            "bin_end": 0.4,
            "count": 0
           },
           {
            "bin_start": 0.4,
            "bin_end": 0.5,
            "count": 0
           }
          ]
         }
        },
        {
         "name": "Borrower Name",
         "dtype": "object",
         "stats": {
          "unique_count": 20,
          "nan_count": 0,
          "categories": [
           {
            "name": "Bettie",
            "count": 1
           },
           {
            "name": "Justine",
            "count": 1
           },
           {
            "name": "18 others",
            "count": 18
           }
          ]
         }
        },
        {
         "name": "Loan Amount",
         "dtype": "object",
         "stats": {
          "unique_count": 13,
          "nan_count": 0,
          "categories": [
           {
            "name": "825",
            "count": 3
           },
           {
            "name": "375",
            "count": 3
           },
           {
            "name": "11 others",
            "count": 14
           }
          ]
         }
        },
        {
         "name": "Region",
         "dtype": "object",
         "stats": {
          "unique_count": 10,
          "nan_count": 0,
          "categories": [
           {
            "name": "Bombo",
            "count": 4
           },
           {
            "name": "Mityana",
            "count": 3
           },
           {
            "name": "8 others",
            "count": 13
           }
          ]
         }
        },
        {
         "name": "Country",
         "dtype": "object",
         "stats": {
          "unique_count": 5,
          "nan_count": 0,
          "categories": [
           {
            "name": " Uganda",
            "count": 9
           },
           {
            "name": " Philippines",
            "count": 4
           },
           {
            "name": "3 others",
            "count": 7
           }
          ]
         }
        },
        {
         "name": "Industry",
         "dtype": "object",
         "stats": {
          "unique_count": 15,
          "nan_count": 0,
          "categories": [
           {
            "name": "Retail",
            "count": 3
           },
           {
            "name": "Food",
            "count": 2
           },
           {
            "name": "13 others",
            "count": 15
           }
          ]
         }
        },
        {
         "name": "Loan Length",
         "dtype": "int64",
         "stats": {
          "unique_count": 8,
          "nan_count": 0,
          "min": "6",
          "max": "14",
          "histogram": [
           {
            "bin_start": 6,
            "bin_end": 6.8,
            "count": 2
           },
           {
            "bin_start": 6.8,
            "bin_end": 7.6,
            "count": 2
           },
           {
            "bin_start": 7.6,
            "bin_end": 8.4,
            "count": 0
           },
           {
            "bin_start": 8.4,
            "bin_end": 9.2,
            "count": 2
           },
           {
            "bin_start": 9.2,
            "bin_end": 10,
            "count": 0
           },
           {
            "bin_start": 10,
            "bin_end": 10.8,
            "count": 2
           },
           {
            "bin_start": 10.8,
            "bin_end": 11.600000000000001,
            "count": 2
           },
           {
            "bin_start": 11.600000000000001,
            "bin_end": 12.4,
            "count": 1
           },
           {
            "bin_start": 12.4,
            "bin_end": 13.2,
            "count": 1
           },
           {
            "bin_start": 13.2,
            "bin_end": 14,
            "count": 8
           }
          ]
         }
        },
        {
         "name": "Partner Time With Kiva",
         "dtype": "int64",
         "stats": {
          "unique_count": 7,
          "nan_count": 0,
          "min": "79",
          "max": "165",
          "histogram": [
           {
            "bin_start": 79,
            "bin_end": 87.6,
            "count": 2
           },
           {
            "bin_start": 87.6,
            "bin_end": 96.2,
            "count": 0
           },
           {
            "bin_start": 96.2,
            "bin_end": 104.8,
            "count": 3
           },
           {
            "bin_start": 104.8,
            "bin_end": 113.4,
            "count": 6
           },
           {
            "bin_start": 113.4,
            "bin_end": 122,
            "count": 0
           },
           {
            "bin_start": 122,
            "bin_end": 130.6,
            "count": 3
           },
           {
            "bin_start": 130.6,
            "bin_end": 139.2,
            "count": 0
           },
           {
            "bin_start": 139.2,
            "bin_end": 147.8,
            "count": 0
           },
           {
            "bin_start": 147.8,
            "bin_end": 156.39999999999998,
            "count": 3
           },
           {
            "bin_start": 156.39999999999998,
            "bin_end": 165,
            "count": 3
           }
          ]
         }
        },
        {
         "name": "Borrower Average Cost",
         "dtype": "float64",
         "stats": {
          "unique_count": 6,
          "nan_count": 0,
          "min": "18.0",
          "max": "61.0",
          "histogram": [
           {
            "bin_start": 18,
            "bin_end": 22.3,
            "count": 3
           },
           {
            "bin_start": 22.3,
            "bin_end": 26.6,
            "count": 0
           },
           {
            "bin_start": 26.6,
            "bin_end": 30.9,
            "count": 0
           },
           {
            "bin_start": 30.9,
            "bin_end": 35.2,
            "count": 0
           },
           {
            "bin_start": 35.2,
            "bin_end": 39.5,
            "count": 0
           },
           {
            "bin_start": 39.5,
            "bin_end": 43.8,
            "count": 0
           },
           {
            "bin_start": 43.8,
            "bin_end": 48.099999999999994,
            "count": 1
           },
           {
            "bin_start": 48.099999999999994,
            "bin_end": 52.4,
            "count": 6
           },
           {
            "bin_start": 52.4,
            "bin_end": 56.699999999999996,
            "count": 1
           },
           {
            "bin_start": 56.699999999999996,
            "bin_end": 61,
            "count": 9
           }
          ]
         }
        },
        {
         "name": "Partner Delinquency Rate",
         "dtype": "float64",
         "stats": {
          "unique_count": 7,
          "nan_count": 0,
          "min": "0.0",
          "max": "99.79",
          "histogram": [
           {
            "bin_start": 0,
            "bin_end": 9.979000000000001,
            "count": 9
           },
           {
            "bin_start": 9.979000000000001,
            "bin_end": 19.958000000000002,
            "count": 6
           },
           {
            "bin_start": 19.958000000000002,
            "bin_end": 29.937000000000005,
            "count": 0
           },
           {
            "bin_start": 29.937000000000005,
            "bin_end": 39.916000000000004,
            "count": 0
           },
           {
            "bin_start": 39.916000000000004,
            "bin_end": 49.895,
            "count": 3
           },
           {
            "bin_start": 49.895,
            "bin_end": 59.87400000000001,
            "count": 0
           },
           {
            "bin_start": 59.87400000000001,
            "bin_end": 69.85300000000001,
            "count": 1
           },
           {
            "bin_start": 69.85300000000001,
            "bin_end": 79.83200000000001,
            "count": 0
           },
           {
            "bin_start": 79.83200000000001,
            "bin_end": 89.811,
            "count": 0
           },
           {
            "bin_start": 89.811,
            "bin_end": 99.79,
            "count": 1
           }
          ]
         }
        },
        {
         "name": "Partner Default Rate",
         "dtype": "float64",
         "stats": {
          "unique_count": 7,
          "nan_count": 0,
          "min": "0.0",
          "max": "0.6",
          "histogram": [
           {
            "bin_start": 0,
            "bin_end": 0.06,
            "count": 4
           },
           {
            "bin_start": 0.06,
            "bin_end": 0.12,
            "count": 0
           },
           {
            "bin_start": 0.12,
            "bin_end": 0.18,
            "count": 4
           },
           {
            "bin_start": 0.18,
            "bin_end": 0.24,
            "count": 0
           },
           {
            "bin_start": 0.24,
            "bin_end": 0.3,
            "count": 3
           },
           {
            "bin_start": 0.3,
            "bin_end": 0.36,
            "count": 0
           },
           {
            "bin_start": 0.36,
            "bin_end": 0.42,
            "count": 0
           },
           {
            "bin_start": 0.42,
            "bin_end": 0.48,
            "count": 0
           },
           {
            "bin_start": 0.48,
            "bin_end": 0.54,
            "count": 0
           },
           {
            "bin_start": 0.54,
            "bin_end": 0.6,
            "count": 9
           }
          ]
         }
        },
        {
         "name": "Profitability Rate",
         "dtype": "float64",
         "stats": {
          "unique_count": 7,
          "nan_count": 0,
          "min": "-7.7",
          "max": "12.1",
          "histogram": [
           {
            "bin_start": -7.7,
            "bin_end": -5.720000000000001,
            "count": 3
           },
           {
            "bin_start": -5.720000000000001,
            "bin_end": -3.74,
            "count": 0
           },
           {
            "bin_start": -3.74,
            "bin_end": -1.7600000000000007,
            "count": 6
           },
           {
            "bin_start": -1.7600000000000007,
            "bin_end": 0.21999999999999975,
            "count": 3
           },
           {
            "bin_start": 0.21999999999999975,
            "bin_end": 2.2,
            "count": 3
           },
           {
            "bin_start": 2.2,
            "bin_end": 4.179999999999999,
            "count": 0
           },
           {
            "bin_start": 4.179999999999999,
            "bin_end": 6.159999999999999,
            "count": 1
           },
           {
            "bin_start": 6.159999999999999,
            "bin_end": 8.14,
            "count": 3
           },
           {
            "bin_start": 8.14,
            "bin_end": 10.120000000000001,
            "count": 0
           },
           {
            "bin_start": 10.120000000000001,
            "bin_end": 12.1,
            "count": 1
           }
          ]
         }
        },
        {
         "name": "_deepnote_index_column",
         "dtype": "int64"
        }
       ],
       "rows_top": [
        {
         "Unnamed: 0": 0,
         "Expired": 0,
         "Borrower Name": "Bettie",
         "Loan Amount": "1,375",
         "Region": "Bombo",
         "Country": " Uganda",
         "Industry": "Property",
         "Loan Length": 14,
         "Partner Time With Kiva": 113,
         "Borrower Average Cost": 51,
         "Partner Delinquency Rate": 16.19,
         "Partner Default Rate": 0.6,
         "Profitability Rate": -3.1,
         "_deepnote_index_column": 0
        },
        {
         "Unnamed: 0": 1,
         "Expired": 0,
         "Borrower Name": "Justine",
         "Loan Amount": "275",
         "Region": "Mityana",
         "Country": " Uganda",
         "Industry": "Food",
         "Loan Length": 11,
         "Partner Time With Kiva": 165,
         "Borrower Average Cost": 60,
         "Partner Delinquency Rate": 47.23,
         "Partner Default Rate": 0.27,
         "Profitability Rate": 7.3,
         "_deepnote_index_column": 1
        },
        {
         "Unnamed: 0": 2,
         "Expired": 0,
         "Borrower Name": "Lillian",
         "Loan Amount": "825",
         "Region": "Ibanda",
         "Country": " Uganda",
         "Industry": "Livestock",
         "Loan Length": 14,
         "Partner Time With Kiva": 113,
         "Borrower Average Cost": 51,
         "Partner Delinquency Rate": 16.19,
         "Partner Default Rate": 0.6,
         "Profitability Rate": -3.1,
         "_deepnote_index_column": 2
        },
        {
         "Unnamed: 0": 3,
         "Expired": 0,
         "Borrower Name": "Winnie",
         "Loan Amount": "175",
         "Region": "Mityana",
         "Country": " Uganda",
         "Industry": "Retail",
         "Loan Length": 9,
         "Partner Time With Kiva": 165,
         "Borrower Average Cost": 60,
         "Partner Delinquency Rate": 47.23,
         "Partner Default Rate": 0.27,
         "Profitability Rate": 7.3,
         "_deepnote_index_column": 3
        },
        {
         "Unnamed: 0": 4,
         "Expired": 0,
         "Borrower Name": "Shein",
         "Loan Amount": "825",
         "Region": "Bombo",
         "Country": " Uganda",
         "Industry": "Clothing Sales",
         "Loan Length": 6,
         "Partner Time With Kiva": 113,
         "Borrower Average Cost": 51,
         "Partner Delinquency Rate": 16.19,
         "Partner Default Rate": 0.6,
         "Profitability Rate": -3.1,
         "_deepnote_index_column": 4
        },
        {
         "Unnamed: 0": 5,
         "Expired": 0,
         "Borrower Name": "Musa",
         "Loan Amount": "375",
         "Region": "Kaduna",
         "Country": " Nigeria",
         "Industry": "Primary/secondary school costs",
         "Loan Length": 14,
         "Partner Time With Kiva": 102,
         "Borrower Average Cost": 18,
         "Partner Delinquency Rate": 0,
         "Partner Default Rate": 0,
         "Profitability Rate": -1.4,
         "_deepnote_index_column": 5
        },
        {
         "Unnamed: 0": 6,
         "Expired": 0,
         "Borrower Name": "Liza",
         "Loan Amount": "700",
         "Region": "Concepcion",
         "Country": " Philippines",
         "Industry": "Fishing",
         "Loan Length": 13,
         "Partner Time With Kiva": 154,
         "Borrower Average Cost": 60,
         "Partner Delinquency Rate": 8.14,
         "Partner Default Rate": 0.58,
         "Profitability Rate": -7.7,
         "_deepnote_index_column": 6
        },
        {
         "Unnamed: 0": 7,
         "Expired": 0,
         "Borrower Name": "Kasifa",
         "Loan Amount": "700",
         "Region": "Bombo",
         "Country": " Uganda",
         "Industry": "General Store",
         "Loan Length": 14,
         "Partner Time With Kiva": 113,
         "Borrower Average Cost": 51,
         "Partner Delinquency Rate": 16.19,
         "Partner Default Rate": 0.6,
         "Profitability Rate": -3.1,
         "_deepnote_index_column": 7
        },
        {
         "Unnamed: 0": 8,
         "Expired": 0,
         "Borrower Name": "Maria",
         "Loan Amount": "200",
         "Region": "Mityana",
         "Country": " Uganda",
         "Industry": "Restaurant",
         "Loan Length": 9,
         "Partner Time With Kiva": 165,
         "Borrower Average Cost": 60,
         "Partner Delinquency Rate": 47.23,
         "Partner Default Rate": 0.27,
         "Profitability Rate": 7.3,
         "_deepnote_index_column": 8
        },
        {
         "Unnamed: 0": 9,
         "Expired": 0,
         "Borrower Name": "Rhona Lee",
         "Loan Amount": "150",
         "Region": "Carmen",
         "Country": " Philippines",
         "Industry": "Food",
         "Loan Length": 12,
         "Partner Time With Kiva": 154,
         "Borrower Average Cost": 60,
         "Partner Delinquency Rate": 8.14,
         "Partner Default Rate": 0.58,
         "Profitability Rate": -7.7,
         "_deepnote_index_column": 9
        },
        {
         "Unnamed: 0": 10,
         "Expired": 0,
         "Borrower Name": "Nuraddeen",
         "Loan Amount": "375",
         "Region": "Kaduna",
         "Country": " Nigeria",
         "Industry": "Personal Housing Expenses",
         "Loan Length": 14,
         "Partner Time With Kiva": 102,
         "Borrower Average Cost": 18,
         "Partner Delinquency Rate": 0,
         "Partner Default Rate": 0,
         "Profitability Rate": -1.4,
         "_deepnote_index_column": 10
        },
        {
         "Unnamed: 0": 11,
         "Expired": 0,
         "Borrower Name": "Mary Jean",
         "Loan Amount": "700",
         "Region": "Concepcion",
         "Country": " Philippines",
         "Industry": "Fishing",
         "Loan Length": 10,
         "Partner Time With Kiva": 154,
         "Borrower Average Cost": 60,
         "Partner Delinquency Rate": 8.14,
         "Partner Default Rate": 0.58,
         "Profitability Rate": -7.7,
         "_deepnote_index_column": 11
        },
        {
         "Unnamed: 0": 12,
         "Expired": 0,
         "Borrower Name": "Dahiru",
         "Loan Amount": "375",
         "Region": "Kaduna",
         "Country": " Nigeria",
         "Industry": "Consumer Goods",
         "Loan Length": 14,
         "Partner Time With Kiva": 102,
         "Borrower Average Cost": 18,
         "Partner Delinquency Rate": 0,
         "Partner Default Rate": 0,
         "Profitability Rate": -1.4,
         "_deepnote_index_column": 12
        },
        {
         "Unnamed: 0": 13,
         "Expired": 0,
         "Borrower Name": "Joseph",
         "Loan Amount": "975",
         "Region": "Bombo",
         "Country": " Uganda",
         "Industry": "Pigs",
         "Loan Length": 14,
         "Partner Time With Kiva": 113,
         "Borrower Average Cost": 51,
         "Partner Delinquency Rate": 16.19,
         "Partner Default Rate": 0.6,
         "Profitability Rate": -3.1,
         "_deepnote_index_column": 13
        },
        {
         "Unnamed: 0": 14,
         "Expired": 0,
         "Borrower Name": "Tenneh",
         "Loan Amount": "300",
         "Region": "Boy's Town",
         "Country": " Liberia",
         "Industry": "Retail",
         "Loan Length": 6,
         "Partner Time With Kiva": 125,
         "Borrower Average Cost": 61,
         "Partner Delinquency Rate": 8.11,
         "Partner Default Rate": 0.16,
         "Profitability Rate": 1.3,
         "_deepnote_index_column": 14
        },
        {
         "Unnamed: 0": 15,
         "Expired": 0,
         "Borrower Name": "Audly",
         "Loan Amount": "825",
         "Region": "Ibanda",
         "Country": " Uganda",
         "Industry": "Farming",
         "Loan Length": 14,
         "Partner Time With Kiva": 113,
         "Borrower Average Cost": 51,
         "Partner Delinquency Rate": 16.19,
         "Partner Default Rate": 0.6,
         "Profitability Rate": -3.1,
         "_deepnote_index_column": 15
        },
        {
         "Unnamed: 0": 16,
         "Expired": 0,
         "Borrower Name": "Amelia",
         "Loan Amount": "250",
         "Region": "New Buchanan",
         "Country": " Liberia",
         "Industry": "Clothing Sales",
         "Loan Length": 7,
         "Partner Time With Kiva": 125,
         "Borrower Average Cost": 61,
         "Partner Delinquency Rate": 8.11,
         "Partner Default Rate": 0.16,
         "Profitability Rate": 1.3,
         "_deepnote_index_column": 16
        },
        {
         "Unnamed: 0": 17,
         "Expired": 0,
         "Borrower Name": "Manitra Adrienne",
         "Loan Amount": "250",
         "Region": "Antananarivo",
         "Country": " Madagascar",
         "Industry": "Home Products Sales",
         "Loan Length": 10,
         "Partner Time With Kiva": 79,
         "Borrower Average Cost": 56,
         "Partner Delinquency Rate": 69.84,
         "Partner Default Rate": 0.12,
         "Profitability Rate": 4.3,
         "_deepnote_index_column": 17
        },
        {
         "Unnamed: 0": 18,
         "Expired": 0,
         "Borrower Name": "Ligtasan Mahusay 4 Group",
         "Loan Amount": "750",
         "Region": "Antipolo City",
         "Country": " Philippines",
         "Industry": "Recycling",
         "Loan Length": 7,
         "Partner Time With Kiva": 87,
         "Borrower Average Cost": 47,
         "Partner Delinquency Rate": 99.79,
         "Partner Default Rate": 0.05,
         "Profitability Rate": 12.1,
         "_deepnote_index_column": 18
        },
        {
         "Unnamed: 0": 19,
         "Expired": 0,
         "Borrower Name": "Julianna",
         "Loan Amount": "325",
         "Region": "New Buchanan",
         "Country": " Liberia",
         "Industry": "Retail",
         "Loan Length": 11,
         "Partner Time With Kiva": 125,
         "Borrower Average Cost": 61,
         "Partner Delinquency Rate": 8.11,
         "Partner Default Rate": 0.16,
         "Profitability Rate": 1.3,
         "_deepnote_index_column": 19
        }
       ],
       "rows_bottom": null
      },
      "text/plain": "    Unnamed: 0  Expired             Borrower Name Loan Amount         Region  \\\n0            0        0                    Bettie       1,375          Bombo   \n1            1        0                   Justine         275        Mityana   \n2            2        0                   Lillian         825         Ibanda   \n3            3        0                    Winnie         175        Mityana   \n4            4        0                     Shein         825          Bombo   \n5            5        0                      Musa         375         Kaduna   \n6            6        0                      Liza         700     Concepcion   \n7            7        0                    Kasifa         700          Bombo   \n8            8        0                     Maria         200        Mityana   \n9            9        0                 Rhona Lee         150         Carmen   \n10          10        0                 Nuraddeen         375         Kaduna   \n11          11        0                 Mary Jean         700     Concepcion   \n12          12        0                    Dahiru         375         Kaduna   \n13          13        0                    Joseph         975          Bombo   \n14          14        0                    Tenneh         300     Boy's Town   \n15          15        0                     Audly         825         Ibanda   \n16          16        0                    Amelia         250   New Buchanan   \n17          17        0          Manitra Adrienne         250   Antananarivo   \n18          18        0  Ligtasan Mahusay 4 Group         750  Antipolo City   \n19          19        0                  Julianna         325   New Buchanan   \n\n         Country                        Industry  Loan Length  \\\n0         Uganda                        Property           14   \n1         Uganda                            Food           11   \n2         Uganda                       Livestock           14   \n3         Uganda                          Retail            9   \n4         Uganda                  Clothing Sales            6   \n5        Nigeria  Primary/secondary school costs           14   \n6    Philippines                         Fishing           13   \n7         Uganda                   General Store           14   \n8         Uganda                      Restaurant            9   \n9    Philippines                            Food           12   \n10       Nigeria       Personal Housing Expenses           14   \n11   Philippines                         Fishing           10   \n12       Nigeria                  Consumer Goods           14   \n13        Uganda                            Pigs           14   \n14       Liberia                          Retail            6   \n15        Uganda                         Farming           14   \n16       Liberia                  Clothing Sales            7   \n17    Madagascar             Home Products Sales           10   \n18   Philippines                       Recycling            7   \n19       Liberia                          Retail           11   \n\n    Partner Time With Kiva  Borrower Average Cost  Partner Delinquency Rate  \\\n0                      113                   51.0                     16.19   \n1                      165                   60.0                     47.23   \n2                      113                   51.0                     16.19   \n3                      165                   60.0                     47.23   \n4                      113                   51.0                     16.19   \n5                      102                   18.0                      0.00   \n6                      154                   60.0                      8.14   \n7                      113                   51.0                     16.19   \n8                      165                   60.0                     47.23   \n9                      154                   60.0                      8.14   \n10                     102                   18.0                      0.00   \n11                     154                   60.0                      8.14   \n12                     102                   18.0                      0.00   \n13                     113                   51.0                     16.19   \n14                     125                   61.0                      8.11   \n15                     113                   51.0                     16.19   \n16                     125                   61.0                      8.11   \n17                      79                   56.0                     69.84   \n18                      87                   47.0                     99.79   \n19                     125                   61.0                      8.11   \n\n    Partner Default Rate  Profitability Rate  \n0                   0.60                -3.1  \n1                   0.27                 7.3  \n2                   0.60                -3.1  \n3                   0.27                 7.3  \n4                   0.60                -3.1  \n5                   0.00                -1.4  \n6                   0.58                -7.7  \n7                   0.60                -3.1  \n8                   0.27                 7.3  \n9                   0.58                -7.7  \n10                  0.00                -1.4  \n11                  0.58                -7.7  \n12                  0.00                -1.4  \n13                  0.60                -3.1  \n14                  0.16                 1.3  \n15                  0.60                -3.1  \n16                  0.16                 1.3  \n17                  0.12                 4.3  \n18                  0.05                12.1  \n19                  0.16                 1.3  ",
      "text/html": "<div>\n<style scoped>\n    .dataframe tbody tr th:only-of-type {\n        vertical-align: middle;\n    }\n\n    .dataframe tbody tr th {\n        vertical-align: top;\n    }\n\n    .dataframe thead th {\n        text-align: right;\n    }\n</style>\n<table border=\"1\" class=\"dataframe\">\n  <thead>\n    <tr style=\"text-align: right;\">\n      <th></th>\n      <th>Unnamed: 0</th>\n      <th>Expired</th>\n      <th>Borrower Name</th>\n      <th>Loan Amount</th>\n      <th>Region</th>\n      <th>Country</th>\n      <th>Industry</th>\n      <th>Loan Length</th>\n      <th>Partner Time With Kiva</th>\n      <th>Borrower Average Cost</th>\n      <th>Partner Delinquency Rate</th>\n      <th>Partner Default Rate</th>\n      <th>Profitability Rate</th>\n    </tr>\n  </thead>\n  <tbody>\n    <tr>\n      <th>0</th>\n      <td>0</td>\n      <td>0</td>\n      <td>Bettie</td>\n      <td>1,375</td>\n      <td>Bombo</td>\n      <td>Uganda</td>\n      <td>Property</td>\n      <td>14</td>\n      <td>113</td>\n      <td>51.0</td>\n      <td>16.19</td>\n      <td>0.60</td>\n      <td>-3.1</td>\n    </tr>\n    <tr>\n      <th>1</th>\n      <td>1</td>\n      <td>0</td>\n      <td>Justine</td>\n      <td>275</td>\n      <td>Mityana</td>\n      <td>Uganda</td>\n      <td>Food</td>\n      <td>11</td>\n      <td>165</td>\n      <td>60.0</td>\n      <td>47.23</td>\n      <td>0.27</td>\n      <td>7.3</td>\n    </tr>\n    <tr>\n      <th>2</th>\n      <td>2</td>\n      <td>0</td>\n      <td>Lillian</td>\n      <td>825</td>\n      <td>Ibanda</td>\n      <td>Uganda</td>\n      <td>Livestock</td>\n      <td>14</td>\n      <td>113</td>\n      <td>51.0</td>\n      <td>16.19</td>\n      <td>0.60</td>\n      <td>-3.1</td>\n    </tr>\n    <tr>\n      <th>3</th>\n      <td>3</td>\n      <td>0</td>\n      <td>Winnie</td>\n      <td>175</td>\n      <td>Mityana</td>\n      <td>Uganda</td>\n      <td>Retail</td>\n      <td>9</td>\n      <td>165</td>\n      <td>60.0</td>\n      <td>47.23</td>\n      <td>0.27</td>\n      <td>7.3</td>\n    </tr>\n    <tr>\n      <th>4</th>\n      <td>4</td>\n      <td>0</td>\n      <td>Shein</td>\n      <td>825</td>\n      <td>Bombo</td>\n      <td>Uganda</td>\n      <td>Clothing Sales</td>\n      <td>6</td>\n      <td>113</td>\n      <td>51.0</td>\n      <td>16.19</td>\n      <td>0.60</td>\n      <td>-3.1</td>\n    </tr>\n    <tr>\n      <th>5</th>\n      <td>5</td>\n      <td>0</td>\n      <td>Musa</td>\n      <td>375</td>\n      <td>Kaduna</td>\n      <td>Nigeria</td>\n      <td>Primary/secondary school costs</td>\n      <td>14</td>\n      <td>102</td>\n      <td>18.0</td>\n      <td>0.00</td>\n      <td>0.00</td>\n      <td>-1.4</td>\n    </tr>\n    <tr>\n      <th>6</th>\n      <td>6</td>\n      <td>0</td>\n      <td>Liza</td>\n      <td>700</td>\n      <td>Concepcion</td>\n      <td>Philippines</td>\n      <td>Fishing</td>\n      <td>13</td>\n      <td>154</td>\n      <td>60.0</td>\n      <td>8.14</td>\n      <td>0.58</td>\n      <td>-7.7</td>\n    </tr>\n    <tr>\n      <th>7</th>\n      <td>7</td>\n      <td>0</td>\n      <td>Kasifa</td>\n      <td>700</td>\n      <td>Bombo</td>\n      <td>Uganda</td>\n      <td>General Store</td>\n      <td>14</td>\n      <td>113</td>\n      <td>51.0</td>\n      <td>16.19</td>\n      <td>0.60</td>\n      <td>-3.1</td>\n    </tr>\n    <tr>\n      <th>8</th>\n      <td>8</td>\n      <td>0</td>\n      <td>Maria</td>\n      <td>200</td>\n      <td>Mityana</td>\n      <td>Uganda</td>\n      <td>Restaurant</td>\n      <td>9</td>\n      <td>165</td>\n      <td>60.0</td>\n      <td>47.23</td>\n      <td>0.27</td>\n      <td>7.3</td>\n    </tr>\n    <tr>\n      <th>9</th>\n      <td>9</td>\n      <td>0</td>\n      <td>Rhona Lee</td>\n      <td>150</td>\n      <td>Carmen</td>\n      <td>Philippines</td>\n      <td>Food</td>\n      <td>12</td>\n      <td>154</td>\n      <td>60.0</td>\n      <td>8.14</td>\n      <td>0.58</td>\n      <td>-7.7</td>\n    </tr>\n    <tr>\n      <th>10</th>\n      <td>10</td>\n      <td>0</td>\n      <td>Nuraddeen</td>\n      <td>375</td>\n      <td>Kaduna</td>\n      <td>Nigeria</td>\n      <td>Personal Housing Expenses</td>\n      <td>14</td>\n      <td>102</td>\n      <td>18.0</td>\n      <td>0.00</td>\n      <td>0.00</td>\n      <td>-1.4</td>\n    </tr>\n    <tr>\n      <th>11</th>\n      <td>11</td>\n      <td>0</td>\n      <td>Mary Jean</td>\n      <td>700</td>\n      <td>Concepcion</td>\n      <td>Philippines</td>\n      <td>Fishing</td>\n      <td>10</td>\n      <td>154</td>\n      <td>60.0</td>\n      <td>8.14</td>\n      <td>0.58</td>\n      <td>-7.7</td>\n    </tr>\n    <tr>\n      <th>12</th>\n      <td>12</td>\n      <td>0</td>\n      <td>Dahiru</td>\n      <td>375</td>\n      <td>Kaduna</td>\n      <td>Nigeria</td>\n      <td>Consumer Goods</td>\n      <td>14</td>\n      <td>102</td>\n      <td>18.0</td>\n      <td>0.00</td>\n      <td>0.00</td>\n      <td>-1.4</td>\n    </tr>\n    <tr>\n      <th>13</th>\n      <td>13</td>\n      <td>0</td>\n      <td>Joseph</td>\n      <td>975</td>\n      <td>Bombo</td>\n      <td>Uganda</td>\n      <td>Pigs</td>\n      <td>14</td>\n      <td>113</td>\n      <td>51.0</td>\n      <td>16.19</td>\n      <td>0.60</td>\n      <td>-3.1</td>\n    </tr>\n    <tr>\n      <th>14</th>\n      <td>14</td>\n      <td>0</td>\n      <td>Tenneh</td>\n      <td>300</td>\n      <td>Boy's Town</td>\n      <td>Liberia</td>\n      <td>Retail</td>\n      <td>6</td>\n      <td>125</td>\n      <td>61.0</td>\n      <td>8.11</td>\n      <td>0.16</td>\n      <td>1.3</td>\n    </tr>\n    <tr>\n      <th>15</th>\n      <td>15</td>\n      <td>0</td>\n      <td>Audly</td>\n      <td>825</td>\n      <td>Ibanda</td>\n      <td>Uganda</td>\n      <td>Farming</td>\n      <td>14</td>\n      <td>113</td>\n      <td>51.0</td>\n      <td>16.19</td>\n      <td>0.60</td>\n      <td>-3.1</td>\n    </tr>\n    <tr>\n      <th>16</th>\n      <td>16</td>\n      <td>0</td>\n      <td>Amelia</td>\n      <td>250</td>\n      <td>New Buchanan</td>\n      <td>Liberia</td>\n      <td>Clothing Sales</td>\n      <td>7</td>\n      <td>125</td>\n      <td>61.0</td>\n      <td>8.11</td>\n      <td>0.16</td>\n      <td>1.3</td>\n    </tr>\n    <tr>\n      <th>17</th>\n      <td>17</td>\n      <td>0</td>\n      <td>Manitra Adrienne</td>\n      <td>250</td>\n      <td>Antananarivo</td>\n      <td>Madagascar</td>\n      <td>Home Products Sales</td>\n      <td>10</td>\n      <td>79</td>\n      <td>56.0</td>\n      <td>69.84</td>\n      <td>0.12</td>\n      <td>4.3</td>\n    </tr>\n    <tr>\n      <th>18</th>\n      <td>18</td>\n      <td>0</td>\n      <td>Ligtasan Mahusay 4 Group</td>\n      <td>750</td>\n      <td>Antipolo City</td>\n      <td>Philippines</td>\n      <td>Recycling</td>\n      <td>7</td>\n      <td>87</td>\n      <td>47.0</td>\n      <td>99.79</td>\n      <td>0.05</td>\n      <td>12.1</td>\n    </tr>\n    <tr>\n      <th>19</th>\n      <td>19</td>\n      <td>0</td>\n      <td>Julianna</td>\n      <td>325</td>\n      <td>New Buchanan</td>\n      <td>Liberia</td>\n      <td>Retail</td>\n      <td>11</td>\n      <td>125</td>\n      <td>61.0</td>\n      <td>8.11</td>\n      <td>0.16</td>\n      <td>1.3</td>\n    </tr>\n  </tbody>\n</table>\n</div>"
     },
     "metadata": {}
    }
   ]
  },
  {
   "cell_type": "markdown",
   "source": "## Exploratory Data Analysis",
   "metadata": {
    "tags": [],
    "cell_id": "00006-14ebfab1-78e6-4cd2-a2ae-2fabe6ffdef7",
    "deepnote_cell_type": "markdown"
   }
  },
  {
   "cell_type": "markdown",
   "source": "Data Dictionary of Kiva Dataset:\n- Expired: A dummy variable where 1 if the loan is fully funded, 0 if otherwise.\n- Loan Amount: The amount of loan being asked by the lendee\n- Country: The country in which the lendee currently resides.\n- Industry: The industry of the loan\n- Loan Length: The duration of the loan\n- Partner Time with Kiva: The number of days in which the lendee posted in Kiva\n- Borrower Average Cost: Average cost of the the borrower\n- Partner Delinquincy Rate: The delinquency rate refers to the percentage of loans that are past due of the partner.\n- Partner Default Rate: The Partner default rate is the percentage of all outstanding loans that a lender has written off as unpaid after a prolonged period of missed payments.\n- Profitability Rate: The rate at which a lender may profit from the loan.\n",
   "metadata": {
    "tags": [],
    "cell_id": "00008-15f6ca24-5070-4585-8bde-3233afc74a59",
    "deepnote_cell_type": "markdown"
   }
  },
  {
   "cell_type": "markdown",
   "source": "The features in the data whole KIVA dataset is spearated into two groups based on its type: \na.) Category columns\nb.) Numerical columns ",
   "metadata": {
    "tags": [],
    "cell_id": "00007-4cc73710-ad7f-4904-89b1-bfe042150be1",
    "deepnote_cell_type": "markdown"
   }
  },
  {
   "cell_type": "code",
   "metadata": {
    "tags": [],
    "cell_id": "00008-ab8322f8-0c50-4e1f-a52d-e4c9ffd9c2a2",
    "deepnote_to_be_reexecuted": true,
    "source_hash": "46df1582",
    "execution_start": 1631550912066,
    "execution_millis": 1305979,
    "deepnote_cell_type": "code"
   },
   "source": "cat_cols = [\"Expired\", \"Region\", \"Country\", \"Industry\"]\nnum_cols = [\"Loan Amount\", \"Loan Length\", \"Partner Time With Kiva\",\"Borrower Average Cost\", \"Partner Delinquency Rate\", \"Partner Default Rate\", \"Profitability Rate\"]",
   "execution_count": null,
   "outputs": []
  },
  {
   "cell_type": "markdown",
   "source": "Using each of the numerical, the group uses histogram to determine which treatment the group will perform for the missing values in the dataset.",
   "metadata": {
    "tags": [],
    "cell_id": "00009-ef10a9c3-077a-4dfb-9181-6b3751cb5bff",
    "deepnote_cell_type": "markdown"
   }
  },
  {
   "cell_type": "markdown",
   "source": "For numerical variables like Loan Amount, Loan Length, Partner Delinquincy Rate, and Partner Default Rate, most of the data points are skewed to the left in their histogram.",
   "metadata": {
    "tags": [],
    "cell_id": "00010-43c45ac5-ffaf-42e3-869f-d0200d03d6e3",
    "deepnote_cell_type": "markdown"
   }
  },
  {
   "cell_type": "markdown",
   "source": "Borrower Average cost, Profitability rate, and Partner time with Kiva seemed to have centered data points. This information is relevant as well since our methodology involves around logistic regression. ",
   "metadata": {
    "tags": [],
    "cell_id": "00011-d2fa4f13-8238-437a-8229-4117ab0f41e5",
    "deepnote_cell_type": "markdown"
   }
  },
  {
   "cell_type": "code",
   "metadata": {
    "tags": [],
    "cell_id": "00009-b2c2e0d0-39d0-4f99-afb3-0e681e8ed11a",
    "deepnote_to_be_reexecuted": true,
    "source_hash": "85ee0654",
    "execution_start": 1631550914583,
    "execution_millis": 12154,
    "deepnote_cell_type": "code"
   },
   "source": "# Visualize the numerical columns\nfor i in num_cols:\n    plt.hist(df[i])\n    plt.title(i)\n    plt.show()",
   "execution_count": null,
   "outputs": [
    {
     "data": {
      "text/plain": "<Figure size 432x288 with 1 Axes>",
      "image/png": "[encoded data removed]"
     },
     "metadata": {
      "image/png": {
       "width": 381,
       "height": 264
      }
     },
     "output_type": "display_data"
    },
    {
     "data": {
      "text/plain": "<Figure size 432x288 with 1 Axes>",
      "image/png": "[encoded data removed]"
     },
     "metadata": {
      "image/png": {
       "width": 381,
       "height": 264
      }
     },
     "output_type": "display_data"
    },
    {
     "data": {
      "text/plain": "<Figure size 432x288 with 1 Axes>",
      "image/png": "[encoded data removed]"
     },
     "metadata": {
      "image/png": {
       "width": 381,
       "height": 264
      }
     },
     "output_type": "display_data"
    },
    {
     "data": {
      "text/plain": "<Figure size 432x288 with 1 Axes>",
      "image/png": "[encoded data removed]"
     },
     "metadata": {
      "image/png": {
       "width": 381,
       "height": 264
      }
     },
     "output_type": "display_data"
    },
    {
     "data": {
      "text/plain": "<Figure size 432x288 with 1 Axes>",
      "image/png": "[encoded data removed]"
     },
     "metadata": {
      "image/png": {
       "width": 381,
       "height": 264
      }
     },
     "output_type": "display_data"
    },
    {
     "data": {
      "text/plain": "<Figure size 432x288 with 1 Axes>",
      "image/png": "[encoded data removed]"
     },
     "metadata": {
      "image/png": {
       "width": 381,
       "height": 264
      }
     },
     "output_type": "display_data"
    },
    {
     "data": {
      "text/plain": "<Figure size 432x288 with 1 Axes>",
      "image/png": "[encoded data removed]"
     },
     "metadata": {
      "image/png": {
       "width": 381,
       "height": 264
      }
     },
     "output_type": "display_data"
    }
   ]
  },
  {
   "cell_type": "markdown",
   "source": "For categorical variables, it is noticeable that most datapoints in the Expired feature are unexpired. For country, it is data points are usually in third-world countries like Uganda and Philippines. Lastly, the most count in the industry feature is retail.",
   "metadata": {
    "tags": [],
    "cell_id": "00013-a966e57b-f9d3-4438-acb9-9cd7b918ee48",
    "deepnote_cell_type": "markdown"
   }
  },
  {
   "cell_type": "code",
   "metadata": {
    "tags": [],
    "cell_id": "00009-1d067e13-376b-4e2a-aecc-b34fc371b073",
    "deepnote_to_be_reexecuted": true,
    "source_hash": "4b2eb846",
    "execution_start": 1631550926752,
    "execution_millis": 78209,
    "deepnote_cell_type": "code"
   },
   "source": "# Visualize the categorical columns \nfor i in cat_cols:\n    sns.barplot(df[i].value_counts().index,df[i].value_counts()).set_title(i)\n    plt.show()",
   "execution_count": null,
   "outputs": [
    {
     "name": "stderr",
     "text": "/shared-libs/python3.7/py/lib/python3.7/site-packages/seaborn/_decorators.py:43: FutureWarning: Pass the following variables as keyword args: x, y. From version 0.12, the only valid positional argument will be `data`, and passing other arguments without an explicit keyword will result in an error or misinterpretation.\n  FutureWarning\n",
     "output_type": "stream"
    },
    {
     "data": {
      "text/plain": "<Figure size 432x288 with 1 Axes>",
      "image/png": "[encoded data removed]"
     },
     "metadata": {
      "image/png": {
       "width": 395,
       "height": 264
      }
     },
     "output_type": "display_data"
    },
    {
     "name": "stderr",
     "text": "/shared-libs/python3.7/py/lib/python3.7/site-packages/seaborn/_decorators.py:43: FutureWarning: Pass the following variables as keyword args: x, y. From version 0.12, the only valid positional argument will be `data`, and passing other arguments without an explicit keyword will result in an error or misinterpretation.\n  FutureWarning\n",
     "output_type": "stream"
    },
    {
     "data": {
      "text/plain": "<Figure size 432x288 with 1 Axes>",
      "image/png": "[encoded data removed]"
     },
     "metadata": {
      "image/png": {
       "width": 499,
       "height": 266
      }
     },
     "output_type": "display_data"
    },
    {
     "name": "stderr",
     "text": "/shared-libs/python3.7/py/lib/python3.7/site-packages/seaborn/_decorators.py:43: FutureWarning: Pass the following variables as keyword args: x, y. From version 0.12, the only valid positional argument will be `data`, and passing other arguments without an explicit keyword will result in an error or misinterpretation.\n  FutureWarning\n",
     "output_type": "stream"
    },
    {
     "data": {
      "text/plain": "<Figure size 432x288 with 1 Axes>",
      "image/png": "[encoded data removed]"
     },
     "metadata": {
      "image/png": {
       "width": 411,
       "height": 264
      }
     },
     "output_type": "display_data"
    },
    {
     "name": "stderr",
     "text": "/shared-libs/python3.7/py/lib/python3.7/site-packages/seaborn/_decorators.py:43: FutureWarning: Pass the following variables as keyword args: x, y. From version 0.12, the only valid positional argument will be `data`, and passing other arguments without an explicit keyword will result in an error or misinterpretation.\n  FutureWarning\n",
     "output_type": "stream"
    },
    {
     "data": {
      "text/plain": "<Figure size 432x288 with 1 Axes>",
      "image/png": "[encoded data removed]"
     },
     "metadata": {
      "image/png": {
       "width": 463,
       "height": 264
      }
     },
     "output_type": "display_data"
    }
   ]
  },
  {
   "cell_type": "markdown",
   "source": "## Data Preprocessing",
   "metadata": {
    "tags": [],
    "cell_id": "00007-8ba5a77b-e0d1-4fc5-afaa-dddc5a294e8d",
    "deepnote_cell_type": "markdown"
   }
  },
  {
   "cell_type": "markdown",
   "source": "In this section, we will be preprocessing our data by handling null values, scaling numerical columns, and performing one-hot encoding on the categorical columns. Before performing preprocessing, let us check if our data contains any null values.",
   "metadata": {
    "tags": [],
    "cell_id": "00010-b62b6033-9505-4fd1-a2b8-4090c25346b7",
    "deepnote_cell_type": "markdown"
   }
  },
  {
   "cell_type": "code",
   "metadata": {
    "tags": [],
    "cell_id": "00010-923be04b-3267-4114-abbb-e9a44749516a",
    "deepnote_to_be_reexecuted": true,
    "source_hash": "de1e323c",
    "execution_start": 1631697343097,
    "execution_millis": 21,
    "deepnote_cell_type": "code"
   },
   "source": "df.info()",
   "outputs": [
    {
     "name": "stdout",
     "text": "<class 'pandas.core.frame.DataFrame'>\nRangeIndex: 6000 entries, 0 to 5999\nData columns (total 13 columns):\n #   Column                    Non-Null Count  Dtype  \n---  ------                    --------------  -----  \n 0   Unnamed: 0                6000 non-null   int64  \n 1   Expired                   6000 non-null   int64  \n 2   Borrower Name             6000 non-null   object \n 3   Loan Amount               6000 non-null   object \n 4   Region                    5751 non-null   object \n 5   Country                   6000 non-null   object \n 6   Industry                  6000 non-null   object \n 7   Loan Length               6000 non-null   int64  \n 8   Partner Time With Kiva    6000 non-null   int64  \n 9   Borrower Average Cost     5891 non-null   float64\n 10  Partner Delinquency Rate  6000 non-null   float64\n 11  Partner Default Rate      6000 non-null   float64\n 12  Profitability Rate        6000 non-null   float64\ndtypes: float64(4), int64(4), object(5)\nmemory usage: 609.5+ KB\n",
     "output_type": "stream"
    }
   ],
   "execution_count": null
  },
  {
   "cell_type": "markdown",
   "source": "We see that we have null values with the columns **Region** and **Borrower Average Cost**. In this case, since the null rows cover less than 10% of our total data, we can consider simply dropping these rows instead of imputing them. For **Region**, we will be dropping the entire column instead since there are more than 500 unique categorical values which might create too many columns when one-hot encoded. Instead, **Country** will be used as the geographical indicator of the loan. Alongside **Region** we will also be dropping the **Name** since it won't really contribute to knowing whether a loan will be funded or not.  ",
   "metadata": {
    "tags": [],
    "cell_id": "00012-732efe50-3d65-4351-8939-42c967bf343a",
    "deepnote_cell_type": "markdown"
   }
  },
  {
   "cell_type": "code",
   "metadata": {
    "tags": [],
    "cell_id": "00012-e582e811-639e-4b81-8309-31ce437d842b",
    "deepnote_to_be_reexecuted": true,
    "source_hash": "b52372c1",
    "execution_start": 1631697344992,
    "execution_millis": 50,
    "deepnote_cell_type": "code"
   },
   "source": "drop_cols = ['Borrower Name', 'Region']\n# Drop unneeded columns\ndf = df.drop(columns=drop_cols)\n\n# Drop rows with null values\ndf = df.dropna()\nlen(df)",
   "outputs": [
    {
     "output_type": "execute_result",
     "execution_count": 7,
     "data": {
      "text/plain": "5891"
     },
     "metadata": {}
    }
   ],
   "execution_count": null
  },
  {
   "cell_type": "markdown",
   "source": "Next, we will be performing scaling on the numerical values to get a better distribution for the data and reduce the impact of outliers in the data. However, before proceeding, we must first convert the **Loan Amount** column since it is currently an object.",
   "metadata": {
    "tags": [],
    "cell_id": "00014-e4f756ad-e5f6-457e-bf88-48955337e22b",
    "deepnote_cell_type": "markdown"
   }
  },
  {
   "cell_type": "code",
   "metadata": {
    "tags": [],
    "cell_id": "00015-745a2d24-8d97-448d-b0e9-38a9604cfaa2",
    "deepnote_to_be_reexecuted": true,
    "source_hash": "a8443a19",
    "execution_start": 1631697346879,
    "execution_millis": 19,
    "deepnote_cell_type": "code"
   },
   "source": "# The values are formatted with commas such as \"1,296\" so let's remove them \ndf['Loan Amount'] = df['Loan Amount'].apply(lambda x: x.replace(',', ''))\n# Convert it to numeric\ndf['Loan Amount'] = pd.to_numeric(df['Loan Amount'])",
   "outputs": [],
   "execution_count": null
  },
  {
   "cell_type": "code",
   "metadata": {
    "tags": [],
    "cell_id": "00008-4da923ac-ec02-43fa-a4e0-63e7258f7533",
    "deepnote_to_be_reexecuted": true,
    "source_hash": "cca861bc",
    "execution_start": 1631697350420,
    "execution_millis": 114,
    "deepnote_cell_type": "code"
   },
   "source": "from sklearn.preprocessing import MinMaxScaler\nnum_cols = [\"Loan Amount\", \"Loan Length\", \"Partner Time With Kiva\",\"Borrower Average Cost\", \"Partner Delinquency Rate\", \"Partner Default Rate\", \"Profitability Rate\"]\n\n# Initialize scaler\nscaler = MinMaxScaler()\n# Create scaled df\ndf_scaled = df.copy()\n\ndf_scaled[num_cols] = scaler.fit_transform(df_scaled[num_cols])",
   "outputs": [],
   "execution_count": null
  },
  {
   "cell_type": "markdown",
   "source": "Moving over to our categorical data, simply performing one-hot encoding on the data will produce a large amount of columns. However, we can instead take the top 10 value counts for each column and perform one-hot encoding on those columns since they already comprise majority of the data. ",
   "metadata": {
    "tags": [],
    "cell_id": "00018-32691553-24c3-408c-8fae-acfbf76d7b5d",
    "deepnote_cell_type": "markdown"
   }
  },
  {
   "cell_type": "code",
   "metadata": {
    "tags": [],
    "cell_id": "00018-40d25f8a-71f2-40b8-a0c1-b2cb99933041",
    "deepnote_to_be_reexecuted": true,
    "source_hash": "2266c002",
    "execution_start": 1631697352959,
    "execution_millis": 26,
    "deepnote_cell_type": "code"
   },
   "source": "print(\"Number of unique values for Country: \", len(df_scaled['Country'].value_counts()))\nprint(\"Number of unique values for Industry: \", len(df_scaled['Industry'].value_counts()))\nprint(\"Number of rows in Top 10 countries: \", df_scaled['Country'].value_counts().head(10).sum())\nprint(\"Number of rows in Top 10 industries: \", df_scaled['Industry'].value_counts().head(10).sum())",
   "outputs": [
    {
     "name": "stdout",
     "text": "Number of unique values for Country:  64\nNumber of unique values for Industry:  127\nNumber of rows in Top 10 countries:  3793\nNumber of rows in Top 10 industries:  3223\n",
     "output_type": "stream"
    }
   ],
   "execution_count": null
  },
  {
   "cell_type": "code",
   "metadata": {
    "tags": [],
    "cell_id": "00020-aa3d934e-a259-4ca2-bb55-9375a2d8837b",
    "deepnote_to_be_reexecuted": true,
    "source_hash": "f69f0882",
    "execution_start": 1631697354882,
    "execution_millis": 67,
    "deepnote_cell_type": "code"
   },
   "source": "# Perform one hot encoding \n# Get top 10 labels for countries and industries\ntop_countries = [x for x in df_scaled['Country'].value_counts().sort_values(ascending=False).head(10).index]\ntop_industries = [x for x in df_scaled['Industry'].value_counts().sort_values(ascending=False).head(10).index]\n\nprint(\"Top countries are: \", top_countries)\nprint(\"Top industries are: \", top_industries)\n\n# Create country columns\nfor country in top_countries:\n    df_scaled[country] = np.where(df_scaled['Country']==country,1,0)\n\n# Create industry columns\nfor industry in top_industries:\n    df_scaled[industry] = np.where(df_scaled['Industry']==industry,1,0)\n\n# Drop the columns of Country and Industry since we've encoded them\ndrop_columns = ['Country', 'Industry']\ndf_scaled = df_scaled.drop(columns=drop_columns)",
   "outputs": [
    {
     "name": "stdout",
     "text": "Top countries are:  [' Kenya', ' Philippines', ' Ecuador', ' Tajikistan', ' El Salvador', ' Cambodia', ' Uganda', ' Peru', ' Vietnam', ' Madagascar']\nTop industries are:  ['Farming', 'Personal Housing Expenses', 'Retail', 'Clothing Sales', 'General Store', 'Food Production/Sales', 'Agriculture', 'Cattle', 'Grocery Store', 'Home Appliances']\n",
     "output_type": "stream"
    }
   ],
   "execution_count": null
  },
  {
   "cell_type": "markdown",
   "source": "We also saw that our data is heavily imbalanced. The target column **Expired** had a vastly large difference in the two classes. There was significantly more loans that got funded successfully with only 20 that were unsuccessfully funded. This means that even if we didn't train our model it can achieve a high accuracy by simply outputting the majority class for each prediction. As such, we can perform SMOTE or Synthetic Minority Oversampling Technique which creates new synthesized data to our dataset. The algorithm focuses on the feature space to generate new instances with slight modifications. We prefer this over simply duplicating the minority class since it doesn't add additional information to train the model. ",
   "metadata": {
    "tags": [],
    "cell_id": "00021-cbad879b-c7de-417b-92f7-d0ed5d64b747",
    "deepnote_cell_type": "markdown"
   }
  },
  {
   "cell_type": "code",
   "metadata": {
    "tags": [],
    "cell_id": "00022-e28b63ba-1635-47d5-979b-b7a0feceacfd",
    "deepnote_to_be_reexecuted": true,
    "source_hash": "6e1fa35c",
    "execution_start": 1631697357123,
    "execution_millis": 6,
    "deepnote_cell_type": "code"
   },
   "source": "df_scaled['Expired'].value_counts()",
   "outputs": [
    {
     "output_type": "execute_result",
     "execution_count": 12,
     "data": {
      "text/plain": "0    5871\n1      20\nName: Expired, dtype: int64"
     },
     "metadata": {}
    }
   ],
   "execution_count": null
  },
  {
   "cell_type": "markdown",
   "source": "## Logistic Regression\n\nThe Logistic Regression (or logit regression) will be employed to determine the likelihood of borrowers getting funded from Kiva Loans. This is an appropriate methodology given that the dependent variable or the target variable `expired` is dichotomous. Meaning, the target variable yields only two values: 1 or 0. The corresponding probablility of the value labeled \"1\" if the borrower was funded and \"0\" if the borrower was not funded. \n\nThe sample estimate of the Logistic Regression is as follows: \n\n![Picture title](image-20210911-151929.png)\n\nwhere p is denoted as the target variable that varies from 0 to 1 and the beta values in the right side of the equation are the parameters of the model or the independent variables (train variables)\n\n<br>\nThe following packages are included in testing for the Logit Regression\n\n",
   "metadata": {
    "tags": [],
    "cell_id": "00009-ead150b5-4dfc-4beb-837a-f13c1b8b8a9e",
    "deepnote_cell_type": "markdown"
   }
  },
  {
   "cell_type": "code",
   "metadata": {
    "tags": [],
    "cell_id": "00013-08cb2251-fa56-4f12-90b7-f31cfda4dc0e",
    "deepnote_to_be_reexecuted": true,
    "source_hash": "317cb5b0",
    "execution_start": 1631697373459,
    "execution_millis": 170,
    "deepnote_cell_type": "code"
   },
   "source": "# Useful libraries for Logit Modelling\nfrom sklearn.linear_model import LogisticRegression #for Logistic Regression\nfrom sklearn.model_selection import train_test_split #for splitting the data\nfrom sklearn.model_selection import cross_val_score  \nfrom sklearn.metrics import confusion_matrix #for visualizing the confusion matrix\nfrom sklearn.metrics import roc_auc_score # for roc score\nfrom sklearn.metrics import roc_curve #for visualizing the roc curve\nfrom imblearn.over_sampling import SMOTE # for SMOTE Logit testing\nfrom imblearn.pipeline import make_pipeline #to make a pipeline for logit modelling\nimport sys, traceback\nfrom matplotlib import pyplot #to plot roc curve\n",
   "outputs": [],
   "execution_count": null
  },
  {
   "cell_type": "markdown",
   "source": "We create a function to evaluate the model in terms of different score methods. These are the following evaluation methods that will be conducted in full detail:\n* **Training score** - the training set of the model\n* **Cross validation score** - a technique to evaluate the performance of the model\n* **Testing score** - the generalized ability of the model\n* **Cross & Test Difference** - the difference between the cross validation score and the test score\n* **Standard deviation** - determines the spread of the values\n\nA confusion matrix  and the receiver operating characteristics (ROC) are also printed to evaluate if the model have accurately predict those who were funded and not funded by Kiva Loans.",
   "metadata": {
    "tags": [],
    "cell_id": "00025-0be204ac-0e44-4154-a26b-4e2d04483e50",
    "deepnote_cell_type": "markdown"
   }
  },
  {
   "cell_type": "code",
   "metadata": {
    "tags": [],
    "cell_id": "00033-11129d59-7f30-4c06-bbf2-33f560d09c14",
    "deepnote_to_be_reexecuted": true,
    "source_hash": "3aa40",
    "execution_start": 1631697376487,
    "execution_millis": 11,
    "deepnote_cell_type": "code"
   },
   "source": "#class that mutes code output\nclass Suppressor(object):\n    def __enter__(self):\n        self.stdout = sys.stdout\n        sys.stdout = self\n    def __exit__(self, type, value, traceback):\n        sys.stdout = self.stdout\n        if type is not None:\n    # Do normal exception handling\n            def write(self, x): pass",
   "outputs": [],
   "execution_count": null
  },
  {
   "cell_type": "code",
   "metadata": {
    "tags": [],
    "cell_id": "00027-c1cff097-5c3b-4831-9201-1b0f98d00275",
    "deepnote_to_be_reexecuted": true,
    "source_hash": "df57c85e",
    "execution_start": 1631697378111,
    "execution_millis": 9,
    "deepnote_cell_type": "code"
   },
   "source": "# Create a function to evaluate model\ndef evaluate_model(X_train, y_train, model):    \n    model.fit(X_train, y_train) #train score\n    preds = model.predict(X_test) #test score\n    scores = cross_val_score(model, X_train, y_train, cv=3, scoring=\"accuracy\") #cross validation score \n    diff = scores.mean() - model.score(X_test, y_test) #difference of cross validation score and test score\n    SD = diff / scores.std() #standard deviation\n\n    print(f\"Training Score:{model.score(X_train, y_train):.4%}\")   \n    print(f\"Cross V Score: {scores.mean():.4%} +/- {scores.std():.4%}\")   \n    print(f\"Testing Score: {model.score(X_test, y_test):.4%}\")   \n    print(f\"Cross & Test Diff: {diff:.4%}\")   \n    print(f\"Standard Deviation: {SD}\")   \n    print(confusion_matrix(y_test, preds))\n\n    # Confusion Matrix\n    with Suppressor():\n        cf_matrix = confusion_matrix(y_test, preds)\n        sns.heatmap(cf_matrix, annot=True, fmt='g', \n            vmin=9999999, vmax=9999999, linewidths=.5,\n                  cbar=False).set(\n         title=\"Confusion Matrix\")\n        plt.xlabel('Predicted Label')\n        plt.ylabel('True Label')\n\n    # calculate roc curve\n    fpr, tpr, thresholds = roc_curve(y_test, model.predict_proba(X_test)[:,1])\n    # calculate score\n    roc_auc = roc_auc_score(y_test, model.predict(X_test))\n    # summarize scores\n    print('Logistic: ROC AUC=%.3f' % (roc_auc))\n    # plot the roc curve for the model\n    plt.figure()\n    plt.plot(fpr, tpr, label='Logistic Regression (area =%0.2f)' % roc_auc)\n    plt.plot([0, 1], [0, 1],'r--')\n    # axis labels\n    plt.xlabel('False Positive Rate')\n    plt.ylabel('True Positive Rate')\n    # show the legend\n    plt.legend()\n    # show the plot\n    plt.show()",
   "outputs": [],
   "execution_count": null
  },
  {
   "cell_type": "markdown",
   "source": "In conducting the logit regression, we set `Expired` as the target variable from the scaled version of the dataset. This proceeded by conducting random sampling or splitting the dataset into train and test sets. The rule of thumb in splitting the dataset into training and testing is 80/20 (Bornshtein, 2017). This means that the `test_size` is equivalent to 20% of the data. On the other hand, the `random_state` is set to 42, to yield consistent values for the scores. The `startify` parameter is also included to preserve the proportion of target in the original dataset and train and test dataset.\n\n### Basic Logit Model",
   "metadata": {
    "tags": [],
    "cell_id": "00027-dc010004-1662-4253-a9fa-05c075902f2b",
    "deepnote_cell_type": "markdown"
   }
  },
  {
   "cell_type": "code",
   "metadata": {
    "tags": [],
    "cell_id": "00028-c0058a70-d3e4-489c-b5b0-0bef4244cb3c",
    "deepnote_to_be_reexecuted": true,
    "source_hash": "e688fc21",
    "execution_start": 1631697380389,
    "execution_millis": 5277,
    "deepnote_cell_type": "code"
   },
   "source": "# Basic Logit Model Method\n\n#Set 'expired' as target\ntarget = 'Expired'\nX = df_scaled.drop(target, axis = 1)\ny = df_scaled[target]\n\n#Train-test split\nX_train, X_test, y_train, y_test = train_test_split(X, y, test_size = 0.2, stratify=y, random_state=42)\n\n#Train model and add other necessary score\nclf = LogisticRegression(random_state=0, solver='newton-cg', max_iter=1000)\nevaluate_model(X_train, y_train, clf)",
   "outputs": [
    {
     "name": "stdout",
     "text": "Training Score:99.6604%\nCross V Score: 99.6604% +/- 0.0300%\nTesting Score: 99.6607%\nCross & Test Diff: -0.0003%\nStandard Deviation: -0.009463981990694656\n[[1175    0]\n [   4    0]]\nLogistic: ROC AUC=0.500\n",
     "output_type": "stream"
    },
    {
     "data": {
      "text/plain": "<Figure size 432x288 with 1 Axes>",
      "image/png": "[encoded data removed]"
     },
     "metadata": {
      "image/png": {
       "width": 380,
       "height": 278
      }
     },
     "output_type": "display_data"
    },
    {
     "data": {
      "text/plain": "<Figure size 432x288 with 1 Axes>",
      "image/png": "[encoded data removed]"
     },
     "metadata": {
      "image/png": {
       "width": 386,
       "height": 262
      }
     },
     "output_type": "display_data"
    }
   ],
   "execution_count": null
  },
  {
   "cell_type": "markdown",
   "source": "The test score yielded a high value of 99.6607% and a cross validation score of 99.6604%. However, the model also resulted to a negative standard deviation, which is statistically impossible. Even if the test score and the cross validation score yielded a promising value, other indicators have contradicted the validity of the score. This leads to a risk of misinterpreting the data given that other outliers also exist.\n\n### SMOTE Method\nRecall that on the pre-processing stage, it was determined that the number of those who were funded and not funded are imbalanced. This kind of outlier in the dataset might affect the scores when conducting the basic logit method. However, accuracy may not be a good measure in evaluating the model with an imbalanced data (Sokolova, 2006). Thus we present another method to do the logit regression, the **Synthethic Minority Over-sampling Technique (SMOTE)**\n\n<br>The SMOTE Technique is an approach to construct classifiers if the dataset is imbalanced (Chawla et al., 2002). It is an oversampling method to generate a synthetic data of the minority class (ie. `Expired`) rather than duplicating the data.  This can provide better insights of the scores yielded as the dataset could be balanced with SMOTE. The estimation of the scores for logit regression using the SMOTE method is summarized below. ",
   "metadata": {
    "tags": [],
    "cell_id": "00027-7358a35e-8a3c-4642-baac-a0465ac795eb",
    "deepnote_cell_type": "markdown"
   }
  },
  {
   "cell_type": "code",
   "metadata": {
    "tags": [],
    "cell_id": "00030-fff7fbda-ac88-4ab3-aea4-ca5dac25379c",
    "deepnote_to_be_reexecuted": true,
    "source_hash": "22b84b07",
    "execution_start": 1631697388830,
    "execution_millis": 8298,
    "deepnote_cell_type": "code"
   },
   "source": "# SMOTE Method \nsmt = SMOTE(random_state=0)\n\n# Fit resample\nX_train_SMOTE, y_train_SMOTE = smt.fit_resample(X_train, y_train)\n\n# Evaluate model with necessary scores\nevaluate_model(X_train_SMOTE, y_train_SMOTE, clf)",
   "outputs": [
    {
     "name": "stderr",
     "text": "/shared-libs/python3.7/py/lib/python3.7/site-packages/scipy/optimize/linesearch.py:478: LineSearchWarning: The line search algorithm did not converge\n  warn('The line search algorithm did not converge', LineSearchWarning)\n/shared-libs/python3.7/py/lib/python3.7/site-packages/scipy/optimize/linesearch.py:327: LineSearchWarning: The line search algorithm did not converge\n  warn('The line search algorithm did not converge', LineSearchWarning)\n/shared-libs/python3.7/py/lib/python3.7/site-packages/scipy/optimize/linesearch.py:478: LineSearchWarning: The line search algorithm did not converge\n  warn('The line search algorithm did not converge', LineSearchWarning)\n/shared-libs/python3.7/py/lib/python3.7/site-packages/scipy/optimize/linesearch.py:327: LineSearchWarning: The line search algorithm did not converge\n  warn('The line search algorithm did not converge', LineSearchWarning)\n/shared-libs/python3.7/py/lib/python3.7/site-packages/scipy/optimize/linesearch.py:478: LineSearchWarning: The line search algorithm did not converge\n  warn('The line search algorithm did not converge', LineSearchWarning)\n/shared-libs/python3.7/py/lib/python3.7/site-packages/scipy/optimize/linesearch.py:327: LineSearchWarning: The line search algorithm did not converge\n  warn('The line search algorithm did not converge', LineSearchWarning)\n/shared-libs/python3.7/py/lib/python3.7/site-packages/scipy/optimize/linesearch.py:478: LineSearchWarning: The line search algorithm did not converge\n  warn('The line search algorithm did not converge', LineSearchWarning)\n/shared-libs/python3.7/py/lib/python3.7/site-packages/scipy/optimize/linesearch.py:327: LineSearchWarning: The line search algorithm did not converge\n  warn('The line search algorithm did not converge', LineSearchWarning)\n/shared-libs/python3.7/py/lib/python3.7/site-packages/scipy/optimize/linesearch.py:478: LineSearchWarning: The line search algorithm did not converge\n  warn('The line search algorithm did not converge', LineSearchWarning)\n/shared-libs/python3.7/py/lib/python3.7/site-packages/scipy/optimize/linesearch.py:327: LineSearchWarning: The line search algorithm did not converge\n  warn('The line search algorithm did not converge', LineSearchWarning)\n/shared-libs/python3.7/py/lib/python3.7/site-packages/scipy/optimize/linesearch.py:478: LineSearchWarning: The line search algorithm did not converge\n  warn('The line search algorithm did not converge', LineSearchWarning)\n/shared-libs/python3.7/py/lib/python3.7/site-packages/scipy/optimize/linesearch.py:327: LineSearchWarning: The line search algorithm did not converge\n  warn('The line search algorithm did not converge', LineSearchWarning)\nTraining Score:96.5077%\nCross V Score: 96.2947% +/- 0.2822%\nTesting Score: 92.4512%\nCross & Test Diff: 3.8435%\nStandard Deviation: 13.619080156729309\n[[1086   89]\n [   0    4]]\nLogistic: ROC AUC=0.962\n",
     "output_type": "stream"
    },
    {
     "data": {
      "text/plain": "<Figure size 432x288 with 1 Axes>",
      "image/png": "[encoded data removed]"
     },
     "metadata": {
      "image/png": {
       "width": 380,
       "height": 278
      }
     },
     "output_type": "display_data"
    },
    {
     "data": {
      "text/plain": "<Figure size 432x288 with 1 Axes>",
      "image/png": "[encoded data removed]"
     },
     "metadata": {
      "image/png": {
       "width": 386,
       "height": 262
      }
     },
     "output_type": "display_data"
    }
   ],
   "execution_count": null
  },
  {
   "cell_type": "markdown",
   "source": "The results of the SMOTE method may have yielded a lower test and cross validation scores. It is also evident that the standard deviation is already positive, which means that the spread of the values make more sense. Moreover, this method have also distributed the imbalanced data evident in the confusion matrix and a smoother curve in the ROC curve\n\nThe results of the model can be visualized through the Confusion Matrix. Based on the Confusion Matrix, it shows that with this method the model was able to accurately predict that 1086 loans that would be funded. However, an additional 89 loans that the model predicted would be fully funded were actually not fully funded (type 1 error). Meanwhile the model was also able to accurately predict 4 loans that would not recieve full funding, additionally none of the loans predicted not to receive full funding were fully funded (type 2 error). Another way to visualize the results is through the Receiver Operating Characteristics (ROC) curve. The ROC curve is a plot of the false positive rate (x-axis) versus the true positive rate (y-axis). The green curve indicates the model's performance while the red dotted line is the random classifier. Generally, skilful models are represented by curves that bow up to the top left of the plot. This ROC curve therefore indicates that the model is skilled in accurately determining which loans would be fully funded.\n\n### SMOTE Method with Pipeline\nEven if the SMOTE method could handle imbalanced datasets such as in Kiva Loans, we also implemented a pipeline of the SMOTE. For this method, it will optimize the values to gain better intuition on how our model performed (Foley, 2020).",
   "metadata": {
    "tags": [],
    "cell_id": "00039-bf4caba4-b37c-4895-bf7d-9cff74842acb",
    "deepnote_cell_type": "markdown"
   }
  },
  {
   "cell_type": "code",
   "metadata": {
    "tags": [],
    "cell_id": "00031-63703e36-313d-487c-98ec-78cf067e326a",
    "deepnote_to_be_reexecuted": true,
    "source_hash": "a27b6ca7",
    "execution_start": 1631697404305,
    "execution_millis": 9429,
    "deepnote_cell_type": "code"
   },
   "source": "# Implement a pipeline to optimize values\npipeline = make_pipeline(smt, clf)\nevaluate_model(X_train, y_train, pipeline)",
   "outputs": [
    {
     "name": "stderr",
     "text": "/shared-libs/python3.7/py/lib/python3.7/site-packages/scipy/optimize/linesearch.py:437: LineSearchWarning: Rounding errors prevent the line search from converging\n  warn(msg, LineSearchWarning)\n/shared-libs/python3.7/py/lib/python3.7/site-packages/scipy/optimize/linesearch.py:327: LineSearchWarning: The line search algorithm did not converge\n  warn('The line search algorithm did not converge', LineSearchWarning)\n/shared-libs/python3.7/py/lib/python3.7/site-packages/sklearn/utils/optimize.py:195: UserWarning: Line Search failed\n  warnings.warn('Line Search failed')\n/shared-libs/python3.7/py/lib/python3.7/site-packages/scipy/optimize/linesearch.py:478: LineSearchWarning: The line search algorithm did not converge\n  warn('The line search algorithm did not converge', LineSearchWarning)\n/shared-libs/python3.7/py/lib/python3.7/site-packages/scipy/optimize/linesearch.py:327: LineSearchWarning: The line search algorithm did not converge\n  warn('The line search algorithm did not converge', LineSearchWarning)\nTraining Score:93.2301%\nCross V Score: 93.5910% +/- 0.6905%\nTesting Score: 92.4512%\nCross & Test Diff: 1.1398%\nStandard Deviation: 1.6505927760594672\n[[1086   89]\n [   0    4]]\nLogistic: ROC AUC=0.962\n",
     "output_type": "stream"
    },
    {
     "data": {
      "text/plain": "<Figure size 432x288 with 1 Axes>",
      "image/png": "[encoded data removed]"
     },
     "metadata": {
      "image/png": {
       "width": 380,
       "height": 278
      }
     },
     "output_type": "display_data"
    },
    {
     "data": {
      "text/plain": "<Figure size 432x288 with 1 Axes>",
      "image/png": "[encoded data removed]"
     },
     "metadata": {
      "image/png": {
       "width": 386,
       "height": 262
      }
     },
     "output_type": "display_data"
    }
   ],
   "execution_count": null
  },
  {
   "cell_type": "markdown",
   "source": "From the results of the above two SMOTE methods, we are able to see a difference between the cross-validation scores of the two methods. A lower score in the SMOTE pipeline method is observed compared to the plain SMOTE method. However, implementing a pipeline resulted in a cross-validation score that is slightly closer to the test score compare to the first SMOTE method. This indicates that the accuracy of the model is matched for both scores Moreover, the standard deviation is lower in the SMOTE method with the pipeline, which indicates that the spread of the values are closer.\n\n<br>Both the Confusion Matrix and the ROC curve results of the SMOTE pipeline method are similar compared to the results yielded by the plain SMOTE method. The confusion Matrix similarly shows that the model accurately predicted 1086 loans would be fully funded while 89 of the loans predicted to be fully funded were not (at type 1 error). Additionally 4 loans were also accurately predicted not to receive full funding while none of the loans predicted not receive full funding were fully funded (type 2 error) both similar to the results of the plain SMOTE method. Lastly, the ROC curve of the SMOTE pipeline method is similar to that of the plain SMOTE method wherein it bows up to the top left of the plot indicating that the model is skilled in determining the likelihood of loans being funded.\n\n### Final Say: What factors are relvant in increasing the likelihood of receiving loans?\nAside from the scores obtained and model optimization implemented in this project, we determine which factors in the data increases the likelihood of receiving loans. In addition to this, we also get the factors that lessens the chance of getting funded. This is determined by getting the coefficients of the logit regression.",
   "metadata": {
    "tags": [],
    "cell_id": "00041-16827a9a-bcd9-4c33-add1-997da1069786",
    "deepnote_cell_type": "markdown"
   }
  },
  {
   "cell_type": "code",
   "metadata": {
    "tags": [],
    "cell_id": "00042-5ee886ed-5022-47ba-8839-ab0faf092abd",
    "deepnote_to_be_reexecuted": true,
    "source_hash": "4ad03591",
    "execution_start": 1631697621717,
    "execution_millis": 23,
    "deepnote_cell_type": "code"
   },
   "source": "# List the variables and the coefficients\ncoeff = pd.DataFrame({\"Feature\":X_train.columns.tolist(),\"Coefficients\":clf.coef_[0]})\ncoeff.head(27)",
   "outputs": [
    {
     "output_type": "execute_result",
     "execution_count": 24,
     "data": {
      "application/vnd.deepnote.dataframe.v2+json": {
       "row_count": 27,
       "column_count": 2,
       "columns": [
        {
         "name": "Feature",
         "dtype": "object",
         "stats": {
          "unique_count": 27,
          "nan_count": 0,
          "categories": [
           {
            "name": "Unnamed: 0",
            "count": 1
           },
           {
            "name": "Loan Amount",
            "count": 1
           },
           {
            "name": "25 others",
            "count": 25
           }
          ]
         }
        },
        {
         "name": "Coefficients",
         "dtype": "float64",
         "stats": {
          "unique_count": 27,
          "nan_count": 0,
          "min": "-4.760827384249392",
          "max": "9.760281042752997",
          "histogram": [
           {
            "bin_start": -4.760827384249392,
            "bin_end": -3.3087165415491535,
            "count": 9
           },
           {
            "bin_start": -3.3087165415491535,
            "bin_end": -1.8566056988489144,
            "count": 8
           },
           {
            "bin_start": -1.8566056988489144,
            "bin_end": -0.4044948561486752,
            "count": 3
           },
           {
            "bin_start": -0.4044948561486752,
            "bin_end": 1.0476159865515635,
            "count": 2
           },
           {
            "bin_start": 1.0476159865515635,
            "bin_end": 2.4997268292518022,
            "count": 1
           },
           {
            "bin_start": 2.4997268292518022,
            "bin_end": 3.951837671952042,
            "count": 1
           },
           {
            "bin_start": 3.951837671952042,
            "bin_end": 5.40394851465228,
            "count": 1
           },
           {
            "bin_start": 5.40394851465228,
            "bin_end": 6.856059357352519,
            "count": 0
           },
           {
            "bin_start": 6.856059357352519,
            "bin_end": 8.308170200052759,
            "count": 1
           },
           {
            "bin_start": 8.308170200052759,
            "bin_end": 9.760281042752997,
            "count": 1
           }
          ]
         }
        },
        {
         "name": "_deepnote_index_column",
         "dtype": "int64"
        }
       ],
       "rows_top": [
        {
         "Feature": "Unnamed: 0",
         "Coefficients": 0.001541482936017473,
         "_deepnote_index_column": 0
        },
        {
         "Feature": "Loan Amount",
         "Coefficients": 9.760281042752997,
         "_deepnote_index_column": 1
        },
        {
         "Feature": "Loan Length",
         "Coefficients": 0.8985018381530824,
         "_deepnote_index_column": 2
        },
        {
         "Feature": "Partner Time With Kiva",
         "Coefficients": -3.554700056888602,
         "_deepnote_index_column": 3
        },
        {
         "Feature": "Borrower Average Cost",
         "Coefficients": 7.742409708618004,
         "_deepnote_index_column": 4
        },
        {
         "Feature": "Partner Delinquency Rate",
         "Coefficients": 3.948598700367909,
         "_deepnote_index_column": 5
        },
        {
         "Feature": "Partner Default Rate",
         "Coefficients": 4.245648285035891,
         "_deepnote_index_column": 6
        },
        {
         "Feature": "Profitability Rate",
         "Coefficients": -3.5741906169311197,
         "_deepnote_index_column": 7
        },
        {
         "Feature": " Kenya",
         "Coefficients": -3.2177364535062187,
         "_deepnote_index_column": 8
        },
        {
         "Feature": " Philippines",
         "Coefficients": -4.40025633803022,
         "_deepnote_index_column": 9
        },
        {
         "Feature": " Ecuador",
         "Coefficients": -3.303776617200057,
         "_deepnote_index_column": 10
        },
        {
         "Feature": " Tajikistan",
         "Coefficients": -2.035940115232042,
         "_deepnote_index_column": 11
        },
        {
         "Feature": " El Salvador",
         "Coefficients": -2.0467876794801327,
         "_deepnote_index_column": 12
        },
        {
         "Feature": " Cambodia",
         "Coefficients": -2.441463667626861,
         "_deepnote_index_column": 13
        },
        {
         "Feature": " Uganda",
         "Coefficients": -1.1648816427503803,
         "_deepnote_index_column": 14
        },
        {
         "Feature": " Peru",
         "Coefficients": -4.760827384249392,
         "_deepnote_index_column": 15
        },
        {
         "Feature": " Vietnam",
         "Coefficients": -0.9461412610671948,
         "_deepnote_index_column": 16
        },
        {
         "Feature": " Madagascar",
         "Coefficients": -2.5119265821291954,
         "_deepnote_index_column": 17
        },
        {
         "Feature": "Farming",
         "Coefficients": -3.854062049870028,
         "_deepnote_index_column": 18
        },
        {
         "Feature": "Personal Housing Expenses",
         "Coefficients": -2.8340039197479743,
         "_deepnote_index_column": 19
        },
        {
         "Feature": "Retail",
         "Coefficients": -4.100621368747189,
         "_deepnote_index_column": 20
        },
        {
         "Feature": "Clothing Sales",
         "Coefficients": 1.1416101088606814,
         "_deepnote_index_column": 21
        },
        {
         "Feature": "General Store",
         "Coefficients": -1.2138152485673606,
         "_deepnote_index_column": 22
        },
        {
         "Feature": "Food Production/Sales",
         "Coefficients": -3.9652528672256944,
         "_deepnote_index_column": 23
        },
        {
         "Feature": "Agriculture",
         "Coefficients": -3.4259813252298104,
         "_deepnote_index_column": 24
        },
        {
         "Feature": "Cattle",
         "Coefficients": -2.183632192839827,
         "_deepnote_index_column": 25
        },
        {
         "Feature": "Grocery Store",
         "Coefficients": -4.304578485210284,
         "_deepnote_index_column": 26
        }
       ],
       "rows_bottom": null
      },
      "text/plain": "                      Feature  Coefficients\n0                  Unnamed: 0      0.001541\n1                 Loan Amount      9.760281\n2                 Loan Length      0.898502\n3      Partner Time With Kiva     -3.554700\n4       Borrower Average Cost      7.742410\n5    Partner Delinquency Rate      3.948599\n6        Partner Default Rate      4.245648\n7          Profitability Rate     -3.574191\n8                       Kenya     -3.217736\n9                 Philippines     -4.400256\n10                    Ecuador     -3.303777\n11                 Tajikistan     -2.035940\n12                El Salvador     -2.046788\n13                   Cambodia     -2.441464\n14                     Uganda     -1.164882\n15                       Peru     -4.760827\n16                    Vietnam     -0.946141\n17                 Madagascar     -2.511927\n18                    Farming     -3.854062\n19  Personal Housing Expenses     -2.834004\n20                     Retail     -4.100621\n21             Clothing Sales      1.141610\n22              General Store     -1.213815\n23      Food Production/Sales     -3.965253\n24                Agriculture     -3.425981\n25                     Cattle     -2.183632\n26              Grocery Store     -4.304578",
      "text/html": "<div>\n<style scoped>\n    .dataframe tbody tr th:only-of-type {\n        vertical-align: middle;\n    }\n\n    .dataframe tbody tr th {\n        vertical-align: top;\n    }\n\n    .dataframe thead th {\n        text-align: right;\n    }\n</style>\n<table border=\"1\" class=\"dataframe\">\n  <thead>\n    <tr style=\"text-align: right;\">\n      <th></th>\n      <th>Feature</th>\n      <th>Coefficients</th>\n    </tr>\n  </thead>\n  <tbody>\n    <tr>\n      <th>0</th>\n      <td>Unnamed: 0</td>\n      <td>0.001541</td>\n    </tr>\n    <tr>\n      <th>1</th>\n      <td>Loan Amount</td>\n      <td>9.760281</td>\n    </tr>\n    <tr>\n      <th>2</th>\n      <td>Loan Length</td>\n      <td>0.898502</td>\n    </tr>\n    <tr>\n      <th>3</th>\n      <td>Partner Time With Kiva</td>\n      <td>-3.554700</td>\n    </tr>\n    <tr>\n      <th>4</th>\n      <td>Borrower Average Cost</td>\n      <td>7.742410</td>\n    </tr>\n    <tr>\n      <th>5</th>\n      <td>Partner Delinquency Rate</td>\n      <td>3.948599</td>\n    </tr>\n    <tr>\n      <th>6</th>\n      <td>Partner Default Rate</td>\n      <td>4.245648</td>\n    </tr>\n    <tr>\n      <th>7</th>\n      <td>Profitability Rate</td>\n      <td>-3.574191</td>\n    </tr>\n    <tr>\n      <th>8</th>\n      <td>Kenya</td>\n      <td>-3.217736</td>\n    </tr>\n    <tr>\n      <th>9</th>\n      <td>Philippines</td>\n      <td>-4.400256</td>\n    </tr>\n    <tr>\n      <th>10</th>\n      <td>Ecuador</td>\n      <td>-3.303777</td>\n    </tr>\n    <tr>\n      <th>11</th>\n      <td>Tajikistan</td>\n      <td>-2.035940</td>\n    </tr>\n    <tr>\n      <th>12</th>\n      <td>El Salvador</td>\n      <td>-2.046788</td>\n    </tr>\n    <tr>\n      <th>13</th>\n      <td>Cambodia</td>\n      <td>-2.441464</td>\n    </tr>\n    <tr>\n      <th>14</th>\n      <td>Uganda</td>\n      <td>-1.164882</td>\n    </tr>\n    <tr>\n      <th>15</th>\n      <td>Peru</td>\n      <td>-4.760827</td>\n    </tr>\n    <tr>\n      <th>16</th>\n      <td>Vietnam</td>\n      <td>-0.946141</td>\n    </tr>\n    <tr>\n      <th>17</th>\n      <td>Madagascar</td>\n      <td>-2.511927</td>\n    </tr>\n    <tr>\n      <th>18</th>\n      <td>Farming</td>\n      <td>-3.854062</td>\n    </tr>\n    <tr>\n      <th>19</th>\n      <td>Personal Housing Expenses</td>\n      <td>-2.834004</td>\n    </tr>\n    <tr>\n      <th>20</th>\n      <td>Retail</td>\n      <td>-4.100621</td>\n    </tr>\n    <tr>\n      <th>21</th>\n      <td>Clothing Sales</td>\n      <td>1.141610</td>\n    </tr>\n    <tr>\n      <th>22</th>\n      <td>General Store</td>\n      <td>-1.213815</td>\n    </tr>\n    <tr>\n      <th>23</th>\n      <td>Food Production/Sales</td>\n      <td>-3.965253</td>\n    </tr>\n    <tr>\n      <th>24</th>\n      <td>Agriculture</td>\n      <td>-3.425981</td>\n    </tr>\n    <tr>\n      <th>25</th>\n      <td>Cattle</td>\n      <td>-2.183632</td>\n    </tr>\n    <tr>\n      <th>26</th>\n      <td>Grocery Store</td>\n      <td>-4.304578</td>\n    </tr>\n  </tbody>\n</table>\n</div>"
     },
     "metadata": {}
    }
   ],
   "execution_count": null
  },
  {
   "cell_type": "markdown",
   "source": "The plot of the top 5 and bottom 5 factors are arranged in descending order and are summarized below:",
   "metadata": {
    "tags": [],
    "cell_id": "00043-526f18bb-3f42-4794-bb49-c3f08334e6a4",
    "deepnote_cell_type": "markdown"
   }
  },
  {
   "cell_type": "code",
   "metadata": {
    "tags": [],
    "cell_id": "00045-476caeea-d645-4f8a-9edf-765c1c892059",
    "deepnote_to_be_reexecuted": true,
    "source_hash": "123ef7cb",
    "execution_start": 1631612291268,
    "execution_millis": 717,
    "deepnote_cell_type": "code"
   },
   "source": "#Visualize coefficients (Top 5 and Bottom 5)\nlogreg_coeff = coeff.sort_values('Coefficients', ascending = False)\ntop = logreg_coeff.head(5)\nbot = logreg_coeff.tail(5)\n\n#Plot top 5 factors that increases the chances of getting a loan\nplt.figure().set_size_inches(13, 6)\ntop5 = sns.barplot(x='Feature', y='Coefficients',data=top, palette=\"Blues_d\")\n\n# Plot bottom 5 decreases the chances of getting a loan\nplt.figure().set_size_inches(13,10)\nbot5 = sns.barplot(x='Feature', y='Coefficients',data=bot, palette=\"GnBu_d\")\nplt.xlabel('Feature')\nplt.ylabel('Coefficient')\nplt.subplots_adjust(bottom=0.5)",
   "execution_count": null,
   "outputs": [
    {
     "data": {
      "text/plain": "<Figure size 936x432 with 1 Axes>",
      "image/png": "[encoded data removed]"
     },
     "metadata": {
      "image/png": {
       "width": 773,
       "height": 371
      }
     },
     "output_type": "display_data"
    },
    {
     "data": {
      "text/plain": "<Figure size 936x720 with 1 Axes>",
      "image/png": "[encoded data removed]"
     },
     "metadata": {
      "image/png": {
       "width": 775,
       "height": 323
      }
     },
     "output_type": "display_data"
    }
   ]
  },
  {
   "cell_type": "markdown",
   "source": "The graph above shows ten factors in the Logit Model that influence the chances of getting funded on Kiva. The top graph presents factors that *increases the likelihood* of getting funded. While the lowermost graph presents factors that *decreases the likelihood* of borrowers getting funded.\n\nEach factor that increases the likelihood of getting funded are explained in full details:\n\n* **Loan Amount** - An increase in the loan amount increases the chances of getting funded.This may be due to the fact that the loan amount is the most important information for lenders to calculate their investment or loan.\n* **Borrower Average Cost** - The cost of the borrower's enterprise is likely to be one of the most considered factor of lenders to fund their enterprise. This may imply that the average cost is an important factor to consider for lenders to calculate the risk in their investment or loan.\n* **Partner default Rate** - A percentage increase of the total outstanding loans of the borrower, increases the chances of getting funded.\n* **Partner Delqiuency Rate** - A percentage increase of the loan payment that are overdue by the partner organization increases the chances of getting funded. For the default and the deliquency rate, although the terms are quite negative, these rates are not particularly focused by lenders. The lenders may thought that lending in Kiva is 'charitable' or 'altruistic' in nature, where they could lend out of empathy to donate and help these enterprises. Perhaps the model predicted that lenders are not too technical in checking the default rate to calculate the risk.\n* **Clothing Sales** - If the enterprise belong to the clothing industry, then it increases the chances of getting funded\n\nOn the otherhand, there are also factors that decreases the likelihood of getting funded, which is explained in the following details:\n* **Food production, Retail, and Grocery Store** - If the enterprise belong to one of these sectors, this decreases their chances of getting funded. Market evaluation (ie. profitability, risk, and opportunity) is needed to explain why this phenomena happens.\n* **Philippines & Peru** - Surprisingly, residing in these countries decreases the chances of getting funded. We notice that enterprises in these countries are generally found in rural areas that do not have much access to resources or market outreach. This may have something to do with the general characteristics of borrowers or economic conditions (ie. ease of doing business and economic climate) found in the country.  ",
   "metadata": {
    "tags": [],
    "cell_id": "00045-e36efcad-a400-429d-aa9a-381b504c9b26",
    "deepnote_cell_type": "markdown"
   }
  },
  {
   "cell_type": "markdown",
   "source": "## Conclusion",
   "metadata": {
    "tags": [],
    "cell_id": "00010-097d33a0-deca-4297-a562-0d3be982ee84",
    "deepnote_cell_type": "markdown"
   }
  },
  {
   "cell_type": "markdown",
   "source": "In conducting the logit regression for this project, the results obtained using basic logit method proved not to be a good measure given that the model resulted to have a negative standard deviation which is statistically impossible and contradicts the validity of the scores. This was caused by the imbalance in the data wherein the number of funded and not funded loans were not balanced, outliers such as this in the dataset could affect the scores while doing the basic logit method. Given the imbalance in the data, the SMOTE method was the used to conduct the logit regression. The SMOTE technique is an approach to construct classifiers if the dataset is imbalanced. The results obtained using the SMOTE method yielded lower test and cross validation scores as well as a positive standard deviation indicating that the spread of the values makes more sense. The confusion matrix shows that the model was able to accurately predict that 1086 loans would be funded and that 4 loans would not be fully funded. It also shows that the model only had 89 type 1 errors and 0 type 2 errors. Additionally the ROC curve bows up to the top left of the plot indicating that the model is skilled in accurately determining loans that would be fully funded. In order to optimize the values and gain better intuition of how our model performed a pipeline of the SMOTE was implemented. The results of this showed a lower cross-validation score compared to the plain SMOTE method however it was closer to the test score indicating accuracy of the model is matched for both scores. It also had a lower standard deviation meaning the spread of the values are closer. Both the confusion matrix and ROC curve were similar to that of the plain SMOTE method. These indicate that the model is skilled in determining the likelihood of loans being funded.\n\nLastly, using the coefficients of the logit regression the factors in the data that increases and decreases the likelihood of loans getting funded were determined. The factors that were determined to increase the likelihood of loans getting funded were loan amount, borrower average cost, partner default rate, partner delinquency rate, and clothing sales. On the other hand the factors that were determined to decrease the likelihood of loans getting funded were the enterprise sectors of food production, retail, and grocery store as well as the countries of the Philippines and Peru.\n\n## Recommendation for future projects\n1. Provide a threshold analysis for the amount of loans that is suitable for enterprises to grow. \n2. Collect more data in order to have a balanced dataset of funded and not fully funded loans.\n3. Given the flexibility of the data on the Kiva platform, future projects can also explore other aspects such as creating recommender systems to match potential lenders and borrowers.",
   "metadata": {
    "tags": [],
    "cell_id": "00042-d4d0a119-460b-4029-bf05-63a022849e15",
    "deepnote_cell_type": "markdown"
   }
  },
  {
   "cell_type": "markdown",
   "source": "## Reference\n\nBrau, J. & Woller, G. (2004). Microfinance: A comprehensive review of the existing literature. Journal of Entrepreneurial Finance, JEF, ISSN 1551-9570, The Academy of Entrepreneurial Finance (AEF), Montrose, CA, Vol. 9, Iss. 1, pp. 1-27\n\nChawla, N., Bowyer, K., Hall, L., Kegelmeyer, W. (2002). SMOTE: Synthetic Minority Over-sampling Technique. Journal of Artificial Intelligence Research 16 (2002) 321–357\n\n\nFoley, D. (2020). Dealing with Class Imbalances in Machine Learning. Retrieved from https://towardsdatascience.com/machine-learning-and-class-imbalances-eacb296e776f\n\n\nSerrano-Cinca C, Gutiérrez-Nieto B, López\u0002Palacios L (2015) Determinants of Default in P2P Lending. PLoS ONE 10(10): e0139427. doi:10.1371/ journal.pone.0139427\n\nSokolova, M. (2006). Beyond Accuracy, F-Score and ROC: A Family of Discriminant Measures for Performance Evaluation. Advances in Artificial Intelligence Vol. 4304:1015-1021\n\nDjurovic, Andrija. (2017). Estimating Probability of Default on Peer to Peer Market – Survival Analysis Approach. Journal of Central Banking Theory and Practice. 6. 149-167. 10.1515/jcbtp-2017-0017. \n\nLEE, J. (2020). \"Prediction of Default Risk in Peer-to-Peer Lending Using Structured and Unstructured Data\". Journal of Financial Counseling and Planning, Volume 31, Number 1, 2020, 115-129 \n",
   "metadata": {
    "tags": [],
    "cell_id": "00014-1a214eac-aa51-4506-9911-028c8c1f7435",
    "deepnote_cell_type": "markdown"
   }
  },
  {
   "cell_type": "markdown",
   "source": "<a style='text-decoration:none;line-height:16px;display:flex;color:#5B5B62;padding:10px;justify-content:end;' href='https://deepnote.com?utm_source=created-in-deepnote-cell&projectId=f786ac79-00fd-45ac-a60e-4e2db0695d4f' target=\"_blank\">\n<img alt='Created in deepnote.com' style='display:inline;max-height:16px;margin:0px;margin-right:7.5px;' src='data:image/svg+xml;base64,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' > </img>\nCreated in <span style='font-weight:600;margin-left:4px;'>Deepnote</span></a>",
   "metadata": {
    "tags": [],
    "created_in_deepnote_cell": true,
    "deepnote_cell_type": "markdown"
   }
  }
 ],
 "nbformat": 4,
 "nbformat_minor": 0,
 "metadata": {
  "colab": {
   "name": "kiva-webscrape.ipnyb",
   "provenance": []
  },
  "kernelspec": {
   "display_name": "Python 3",
   "name": "python3"
  },
  "language_info": {
   "name": "python"
  },
  "deepnote_notebook_id": "37d3f21c-e673-45d1-b597-c0c1a56e636f",
  "deepnote": {},
  "deepnote_execution_queue": []
 }
}
